{
 "cells": [
  {
   "cell_type": "code",
   "execution_count": 1,
   "id": "391995aa-c66d-453d-8deb-24a49f6608bb",
   "metadata": {},
   "outputs": [],
   "source": [
    "%load_ext autoreload\n",
    "%autoreload 2\n",
    "import functools\n",
    "from pathlib import Path\n",
    "\n",
    "import matplotlib.pyplot as plt\n",
    "\n",
    "import utils\n",
    "\n",
    "plt.style.use(\n",
    "    [\n",
    "        \"tableau-colorblind10\",\n",
    "        utils.get_style(\"default\"),\n",
    "        utils.get_style(\"1-col-neurips\"),\n",
    "        {'font.size': 6 },\n",
    "    ]\n",
    ")\n",
    "utils.import_plt_sty(\"robustness-macros.sty\")\n",
    "\n",
    "GAMES_DIR = Path(\"/shared/match/paper-robustness/cyclic-heatmap/games/\")"
   ]
  },
  {
   "cell_type": "code",
   "execution_count": null,
   "id": "a3dd2a73-7448-4a20-ad82-a0c4d46740a3",
   "metadata": {},
   "outputs": [],
   "source": [
    "\"\"\"Plots cycle shapes captured in adversarial Go games.\"\"\"\n",
    "\n",
    "import argparse\n",
    "import itertools\n",
    "import re\n",
    "from typing import Iterable, Iterator, Optional, Tuple\n",
    "\n",
    "import matplotlib\n",
    "import numpy as np\n",
    "from tqdm.notebook import tqdm\n",
    "\n",
    "from go import Color, Game\n",
    "\n",
    "BOARD_LEN = 19\n",
    "# When this many stones or more are captured in one move, we check if it's a\n",
    "# cyclic group.\n",
    "CAPTURE_GROUP_SIZE_THRESHOLD = 20\n",
    "\n",
    "# Substrings that appear uniquely in adversaries' and victims' names and are\n",
    "# used to identify which player is the adversary.\n",
    "ADVERSARY_NAME_SUBSTRINGS = [\"adv\", \"attack\"] + [f\"r{i}-v600\" for i in range(10)]\n",
    "VICTIM_NAME_SUBSTRINGS = [\"victim\", \"b18-\"]\n",
    "\n",
    "\n",
    "def get_sgf_property(property_name: str, sgf_string: str) -> str:\n",
    "    \"\"\"Returns the value of a property in an SGF string.\"\"\"\n",
    "    match = re.search(rf\"{property_name}\\[([^\\]]+)\\]\", sgf_string)\n",
    "    assert match is not None, f\"No property {property_name} in SGF string {sgf_string}\"\n",
    "    return match.group(1)\n",
    "\n",
    "\n",
    "def get_cycle_interior(cyclic_group: np.ndarray) -> np.ndarray:\n",
    "    \"\"\"Gets board points inside a cyclic group.\n",
    "    Args:\n",
    "        cyclic_group: Boolean map of cyclic group points.\n",
    "    Returns:\n",
    "        Boolean map of points inside the cyclic group.\n",
    "    \"\"\"\n",
    "    ADJACENCIES = [[0, -1], [0, 1], [-1, 0], [1, 0]]\n",
    "    visited = np.zeros_like(cyclic_group, dtype=bool)\n",
    "    interior = ~cyclic_group\n",
    "    x_max, y_max = cyclic_group.shape\n",
    "\n",
    "    # Any point that has a path that reaches the edge of the board without\n",
    "    # intersecting with the cyclic group is not interior. We DFS to find these\n",
    "    # non-interior points.\n",
    "    def dfs(x, y, previous_square=None):\n",
    "        visited[x, y] = True\n",
    "        # Checking interior[previous_square] handles the case where a previously\n",
    "        # traversed square found a path to the edge of the board.\n",
    "        if (\n",
    "            (previous_square is not None and not interior[previous_square])\n",
    "            or x == 0\n",
    "            or y == 0\n",
    "            or x == x_max - 1\n",
    "            or y == y_max - 1\n",
    "        ):\n",
    "            interior[x, y] = False\n",
    "\n",
    "        for x_inc, y_inc in ADJACENCIES:\n",
    "            x_new = x + x_inc\n",
    "            y_new = y + y_inc\n",
    "            if (\n",
    "                not (0 <= x_new < x_max)\n",
    "                or not (0 <= y_new < y_max)\n",
    "                or cyclic_group[x_new, y_new]\n",
    "            ):\n",
    "                continue\n",
    "            if not visited[x_new, y_new]:\n",
    "                dfs(x_new, y_new, previous_square=(x, y))\n",
    "            # Checking interior[x_new, y_new] handles the case where a\n",
    "            # subsequently traversed square finds a path to the edge of the board.\n",
    "            if not interior[x_new, y_new]:\n",
    "                interior[x, y] = False\n",
    "\n",
    "    for x, y in np.ndindex(cyclic_group.shape):\n",
    "        if not visited[x, y] and not cyclic_group[x, y]:\n",
    "            dfs(x, y)\n",
    "\n",
    "    return interior\n",
    "\n",
    "\n",
    "def get_sgfs(paths: Iterable[Path]) -> Iterator[str]:\n",
    "    \"\"\"Yields all SGF games in the input files.\n",
    "    Args:\n",
    "        paths: List of paths where each path is an SGF file or a directory to\n",
    "            recursively search for SGF files. Each SGF is assumed to be a single\n",
    "            line.\n",
    "    Yields:\n",
    "        SGF strings.\n",
    "    \"\"\"\n",
    "    for path in paths:\n",
    "        if path.suffix in [\".sgf\", \".sgfs\", \".txt\"]:\n",
    "            sgf_files = [path]\n",
    "        else:\n",
    "            sgf_files = itertools.chain(path.glob(\"**/*.sgf\"), path.glob(\"**/*.sgfs\"))\n",
    "\n",
    "    for sgf_file in sgf_files:\n",
    "        for sgf_string in open(sgf_file):\n",
    "            yield sgf_string\n",
    "\n",
    "\n",
    "def get_adversary_win_color(sgf_string: str) -> Optional[Color]:\n",
    "    \"\"\"Returns adversary color if the adversary wins, else returns None.\"\"\"\n",
    "    b_name = get_sgf_property(\"PB\", sgf_string)\n",
    "    w_name = get_sgf_property(\"PW\", sgf_string)\n",
    "    winner = get_sgf_property(\"RE\", sgf_string)[0]\n",
    "    adversary_is_w = False\n",
    "    adversary_is_b = False\n",
    "    for name in ADVERSARY_NAME_SUBSTRINGS:\n",
    "        if name in b_name:\n",
    "            adversary_is_b = True\n",
    "        if name in w_name:\n",
    "            adversary_is_w = True\n",
    "    for name in VICTIM_NAME_SUBSTRINGS:\n",
    "        if name in b_name:\n",
    "            adversary_is_w = True\n",
    "        if name in w_name:\n",
    "            adversary_is_b = True\n",
    "    assert (\n",
    "        adversary_is_w != adversary_is_b\n",
    "    ), f\"Couldn't determine adversary: {b_name} vs. {w_name}\"\n",
    "    adversary_win = (adversary_is_b and winner == \"B\") or (\n",
    "        adversary_is_w and winner == \"W\"\n",
    "    )\n",
    "    if not adversary_win:\n",
    "        return None\n",
    "    return Color.BLACK if adversary_is_b else Color.WHITE\n",
    "\n",
    "\n",
    "def get_cyclic_capture(\n",
    "    sgf_string: str,\n",
    "    adversary_color: Color,\n",
    ") -> Optional[Tuple[np.ndarray, np.ndarray, np.ndarray, np.ndarray, np.ndarray]]:\n",
    "    \"\"\"Finds cyclic capture in a game and returns some board data about it.\n",
    "    Args:\n",
    "        sgf_string: The game to search for a cyclic capture.\n",
    "        adversary_color: The color of the adversary.\n",
    "    Returns:\n",
    "        None if no cyclic capture is found, otherwise a tuple of the following\n",
    "        board properties computed immediately after the capture:\n",
    "            cyclic_group: Boolean map of cyclic group points.\n",
    "            adversary_stones: Boolean map of adversary stones.\n",
    "            victim_stones: Boolean map of victim stones.\n",
    "            interior_adversary_stones: Boolean map of adversary stones inside\n",
    "                the cyclic group.\n",
    "            interior_victim_stones: Boolean map of victim stones inside the\n",
    "                cyclic group.\n",
    "    \"\"\"\n",
    "    victim_color = adversary_color.opponent()\n",
    "    game = Game.from_sgf(sgf_string)\n",
    "\n",
    "    # For each move, check for a capture by diffing the previous board with the\n",
    "    # current board.\n",
    "    #\n",
    "    # The victim can suicide its cyclic group, so we need to check all moves,\n",
    "    # not just the adversary's moves, for a capture.\n",
    "    for i, (prev_board, board) in enumerate(\n",
    "        zip(game.board_states, game.board_states[1:]),\n",
    "    ):\n",
    "        victim_stones = prev_board == victim_color.value\n",
    "        empty_points = board == Color.EMPTY.value\n",
    "        captured_stones = empty_points & victim_stones\n",
    "\n",
    "        # When the adversary captures lots of victim stones and the victim\n",
    "        # stones enclose at least one empty or adversary square, we guess that\n",
    "        # it's capturing a cyclic group.\n",
    "        if np.count_nonzero(captured_stones) < CAPTURE_GROUP_SIZE_THRESHOLD:\n",
    "            continue\n",
    "        interior = get_cycle_interior(captured_stones)\n",
    "        interior_points = interior.nonzero()\n",
    "        if len(interior_points[0]) == 0:\n",
    "            continue\n",
    "\n",
    "        # To get rid of some symmetries, flip cyclic group so that its center is\n",
    "        # in the top-left corner, and flip across the diagonal if the center's\n",
    "        # row coordinate is larger than the column coordinate.\n",
    "        # (It's ambiguous which symmetry to use when the center lies upon an\n",
    "        # axis of reflection. We don't attempt to handle this.)\n",
    "        interior_centroid = np.average(interior.nonzero(), axis=1)\n",
    "        for axis, coord in enumerate(interior_centroid):\n",
    "            if coord > BOARD_LEN / 2:\n",
    "                interior_centroid[axis] = BOARD_LEN - 1 - coord\n",
    "                board = np.flip(board, axis)\n",
    "                captured_stones = np.flip(captured_stones, axis)\n",
    "                interior = np.flip(interior, axis)\n",
    "        if interior_centroid[0] > interior_centroid[1]:\n",
    "            interior_centroid[[0, 1]] = interior_centroid[[1, 0]]\n",
    "            board = board.T\n",
    "            captured_stones = captured_stones.T\n",
    "            interior = interior.T\n",
    "\n",
    "        adversary_stones = board == adversary_color.value\n",
    "        victim_stones = board == victim_color.value\n",
    "        interior_adversary_stones = interior & adversary_stones\n",
    "        interior_victim_stones = interior & victim_stones\n",
    "\n",
    "        return (\n",
    "            captured_stones,\n",
    "            adversary_stones,\n",
    "            victim_stones,\n",
    "            interior_adversary_stones,\n",
    "            interior_victim_stones,\n",
    "        )\n",
    "    return None\n",
    "\n",
    "\n",
    "@functools.lru_cache\n",
    "def get_heat_maps_cached(paths: Tuple[Path, ...], debug: bool) -> Tuple[int, np.ndarray]:\n",
    "    \"\"\"Computes heat maps about cyclic capture data from games.\n",
    "    \n",
    "    Args:\n",
    "        paths: List of paths where each path is an SGF file or a directory to\n",
    "            recursively search for SGF files. (This is a tuple to make it\n",
    "            hashable for caching.)\n",
    "        debug: If true, break after finding two games. This is faster testing, as \n",
    "            processing many games takes a long time.\n",
    "    Returns:\n",
    "        num_cycles: Number of cyclic captures used to compute the heat maps.\n",
    "        heat_maps: shape [5, BOARD_LEN, BOARD_LEN], stacking 5 heat maps:\n",
    "            cycle_heat_map: Heat map of cyclic group points.\n",
    "            adversary_heat_map: Heat map of adversary stones.\n",
    "            victim_heat_map: Heat map of victim stones.\n",
    "            interior_adversary_heat_map: Heat map of adversary stones inside\n",
    "                the cyclic group.\n",
    "            interior_victim_heat_map: Heat map of victim stones inside the\n",
    "                cyclic group.\n",
    "    \"\"\"\n",
    "    num_cycles = 0\n",
    "    cycle_heat_map = np.zeros((BOARD_LEN, BOARD_LEN))\n",
    "    adversary_heat_map = np.zeros((BOARD_LEN, BOARD_LEN))\n",
    "    victim_heat_map = np.zeros((BOARD_LEN, BOARD_LEN))\n",
    "    interior_adversary_heat_map = np.zeros((BOARD_LEN, BOARD_LEN))\n",
    "    interior_victim_heat_map = np.zeros((BOARD_LEN, BOARD_LEN))\n",
    "    for sgf_string in tqdm(list(get_sgfs(paths))):\n",
    "        if int(get_sgf_property(\"SZ\", sgf_string)) != BOARD_LEN:\n",
    "            continue\n",
    "        adversary_color = get_adversary_win_color(sgf_string)\n",
    "        if adversary_color is None:\n",
    "            # Skip games that the adversary loses.\n",
    "            continue\n",
    "        capture_data = get_cyclic_capture(sgf_string, adversary_color)\n",
    "        if capture_data is None:\n",
    "            # It's not necessarily a problem if we do not detect a cyclic\n",
    "            # capture. The victim may have resigned, or in match and victimplay,\n",
    "            # the game can end due to BoardHistory::endGameIfAllPassAlive().\n",
    "            continue\n",
    "\n",
    "        num_cycles += 1\n",
    "        cycle_heat_map += capture_data[0]\n",
    "        adversary_heat_map += capture_data[1]\n",
    "        victim_heat_map += capture_data[2]\n",
    "        interior_adversary_heat_map += capture_data[3]\n",
    "        interior_victim_heat_map += capture_data[4]\n",
    "\n",
    "        if debug and num_cycles >= 2:\n",
    "            break\n",
    "\n",
    "    heat_maps = np.stack(\n",
    "        (\n",
    "            cycle_heat_map,\n",
    "            adversary_heat_map,\n",
    "            victim_heat_map,\n",
    "            interior_adversary_heat_map,\n",
    "            interior_victim_heat_map,\n",
    "        ),\n",
    "    )\n",
    "    heat_maps /= num_cycles\n",
    "    return num_cycles, heat_maps\n",
    "\n",
    "\n",
    "def get_heat_maps(paths: Iterable[Path], debug: bool = False):\n",
    "    num_cycles, heat_maps = get_heat_maps_cached(tuple(paths), debug=debug)\n",
    "    # We copy heat_maps so that the caller's inplace modifications to the return\n",
    "    # value do not change the cache value.\n",
    "    return num_cycles, heat_maps.copy()"
   ]
  },
  {
   "cell_type": "code",
   "execution_count": 28,
   "id": "b4ee4dba-bfb6-4517-a4f2-4118699a335d",
   "metadata": {},
   "outputs": [],
   "source": [
    "def plot_heat_maps(\n",
    "    heat_maps: np.ndarray,\n",
    "    is_diff: bool,\n",
    "    plot_title: str,\n",
    "    output_path: Optional[Path],\n",
    ") -> None:\n",
    "    \"\"\"Plots heat maps about cyclic capture data.\n",
    "    Args:\n",
    "        heat_maps: Heat maps from get_heat_maps().\n",
    "        is_diff: If True, the heat maps are a diff and have a range of [-1, 1].\n",
    "            Otherwise they have a range of [0, 1].\n",
    "        plot_title: Title of the whole plot.\n",
    "        output_path: If None the plot will be shown and not saved, otherwise\n",
    "            the plot is saved to this path.\n",
    "    \"\"\"\n",
    "    cycle_heat_map = heat_maps[0]\n",
    "    adversary_heat_map = heat_maps[1]\n",
    "    victim_heat_map = heat_maps[2]\n",
    "    interior_adversary_heat_map = heat_maps[3]\n",
    "    interior_victim_heat_map = heat_maps[4]\n",
    "\n",
    "    fig, axs = plt.subplots(2, 3, figsize=(plt.rcParams[\"figure.figsize\"][0], 2.5), sharex=True, sharey=True)\n",
    "\n",
    "    if is_diff:\n",
    "        color_map = matplotlib.colormaps.get_cmap(\"RdBu\")\n",
    "        vmin = -1\n",
    "    else:\n",
    "        color_map = matplotlib.colormaps.get_cmap(\"Blues\")\n",
    "        vmin = 0\n",
    "    normalizer = matplotlib.colors.Normalize(vmin=vmin, vmax=1)\n",
    "\n",
    "    def plot_data(figure_row, figure_column, data, title):\n",
    "        ax = axs[figure_row, figure_column]\n",
    "        ax.imshow(data, cmap=color_map, norm=normalizer)\n",
    "        ax.title.set_text(title)\n",
    "\n",
    "    plot_data(0, 0, cycle_heat_map, \"Cyclic group\")\n",
    "    axs[1, 0].axis(\"off\")  # Unused plot space\n",
    "    plot_data(0, 1, adversary_heat_map, \"Adversary stones\")\n",
    "    plot_data(1, 1, interior_adversary_heat_map, \"Interior adversary stones\")\n",
    "    plot_data(0, 2, victim_heat_map, \"Victim stones\")\n",
    "    plot_data(1, 2, interior_victim_heat_map, \"Interior victim stones\")\n",
    "    for _, ax in np.ndenumerate(axs):\n",
    "        ax.set_xticks(range(0, BOARD_LEN, 5))\n",
    "        ax.set_yticks(range(0, BOARD_LEN, 5))\n",
    "        ax.set_xticks(range(BOARD_LEN), minor=True)\n",
    "        ax.set_yticks(range(BOARD_LEN), minor=True)\n",
    "        ax.xaxis.set_ticks_position(\"both\")\n",
    "        ax.yaxis.set_ticks_position(\"both\")\n",
    "    # set `y` to shove suptitle closer to subtitles\n",
    "    fig.suptitle(plot_title, y=0.95)\n",
    "    fig.tight_layout()\n",
    "\n",
    "    color_bar_info = matplotlib.cm.ScalarMappable(cmap=color_map, norm=normalizer)\n",
    "    fig.colorbar(color_bar_info, ax=axs)\n",
    "\n",
    "    if output_path is None:\n",
    "        plt.show()\n",
    "    else:\n",
    "        fig.savefig(output_path)\n",
    "\n",
    "\n",
    "def main(\n",
    "    files: list[Path],\n",
    "    title: str,\n",
    "    output_path: str,\n",
    "    diff_files: list[Path] = [],\n",
    "):\n",
    "    \"\"\"Script entrypoint.\n",
    "\n",
    "    Args\n",
    "    ----\n",
    "    files: Input directories to be searched recursively for SGFs, or SGF files/\n",
    "    title: Title of the plot.\n",
    "    output_path: Output file of the plot.\n",
    "    diff_files: Files to compare with the input files. If specified, the heat\n",
    "        maps will be a diff of [heat maps for files] minus [heat maps for diff_files].\n",
    "    \"\"\"\n",
    "    _, heat_maps = get_heat_maps(files)\n",
    "\n",
    "    is_diff = len(diff_files) > 0\n",
    "    if is_diff:\n",
    "        _, other_heat_maps = get_heat_maps(diff_files)\n",
    "        heat_maps -= other_heat_maps\n",
    "\n",
    "    plot_heat_maps(\n",
    "        heat_maps=heat_maps,\n",
    "        is_diff=is_diff,\n",
    "        plot_title=title,\n",
    "        output_path=output_path,\n",
    "    )"
   ]
  },
  {
   "cell_type": "code",
   "execution_count": 29,
   "id": "87963598-6935-42f8-840f-8f0a37349566",
   "metadata": {},
   "outputs": [
    {
     "name": "stderr",
     "output_type": "stream",
     "text": [
      "/tmp/ipykernel_456998/1539730571.py:52: UserWarning: The figure layout has changed to tight\n",
      "  fig.tight_layout()\n"
     ]
    },
    {
     "data": {
      "image/png": "[encoded data removed]",
      "text/plain": [
       "<Figure size 1320.26x600 with 7 Axes>"
      ]
     },
     "metadata": {},
     "output_type": "display_data"
    }
   ],
   "source": [
    "main(\n",
    "    files=[GAMES_DIR / \"attack-vit.sgfs\"],\n",
    "    title=r\"\\vitadversary{} vs. $\\vitvictim{}^\\mathrm{65536\\,visits}$\",\n",
    "    output_path=\"cyclic-heatmap-attack-vit.pgf\",\n",
    ")"
   ]
  },
  {
   "cell_type": "code",
   "execution_count": 30,
   "id": "3cdfd5a3-86e4-4fb6-9d59-2d33f6a80f6e",
   "metadata": {},
   "outputs": [
    {
     "data": {
      "application/vnd.jupyter.widget-view+json": {
       "model_id": "a43d513f98e14eb7bfad86d9a3d82f8c",
       "version_major": 2,
       "version_minor": 0
      },
      "text/plain": [
       "  0%|          | 0/500 [00:00<?, ?it/s]"
      ]
     },
     "metadata": {},
     "output_type": "display_data"
    },
    {
     "name": "stderr",
     "output_type": "stream",
     "text": [
      "/tmp/ipykernel_456998/1539730571.py:52: UserWarning: The figure layout has changed to tight\n",
      "  fig.tight_layout()\n"
     ]
    },
    {
     "data": {
      "image/png": "[encoded data removed]",
      "text/plain": [
       "<Figure size 1320.26x600 with 7 Axes>"
      ]
     },
     "metadata": {},
     "output_type": "display_data"
    }
   ],
   "source": [
    "main(\n",
    "    files=[GAMES_DIR / \"continuous-adversary.sgfs\"],\n",
    "    title=r\"\\contadv{} vs. $\\dectwentythree{}^\\mathrm{8192\\,visits}$\",\n",
    "    output_path=\"cyclic-heatmap-continuous-adversary.pgf\",\n",
    ")"
   ]
  },
  {
   "cell_type": "code",
   "execution_count": 31,
   "id": "4ab00830-3164-4a12-a336-7b12388c1cf5",
   "metadata": {},
   "outputs": [
    {
     "data": {
      "application/vnd.jupyter.widget-view+json": {
       "model_id": "4d6a04a4e1ef4544982c0c11f83c0c65",
       "version_major": 2,
       "version_minor": 0
      },
      "text/plain": [
       "  0%|          | 0/200 [00:00<?, ?it/s]"
      ]
     },
     "metadata": {},
     "output_type": "display_data"
    },
    {
     "name": "stderr",
     "output_type": "stream",
     "text": [
      "/tmp/ipykernel_456998/1539730571.py:52: UserWarning: The figure layout has changed to tight\n",
      "  fig.tight_layout()\n"
     ]
    },
    {
     "data": {
      "image/png": "[encoded data removed]",
      "text/plain": [
       "<Figure size 1320.26x600 with 7 Axes>"
      ]
     },
     "metadata": {},
     "output_type": "display_data"
    }
   ],
   "source": [
    "main(\n",
    "    files=[GAMES_DIR / \"attack-h9.sgfs\"],\n",
    "    title=r\"\\attackhnine{} vs. $\\defenseiter{9}^\\mathrm{512\\,visits}$\",\n",
    "    output_path=\"cyclic-heatmap-attack-h9.pgf\",\n",
    ")"
   ]
  },
  {
   "cell_type": "code",
   "execution_count": null,
   "id": "1db6b9c8-6ae6-4136-ad74-e8067ce6f29e",
   "metadata": {},
   "outputs": [
    {
     "data": {
      "application/vnd.jupyter.widget-view+json": {
       "model_id": "de97386aaea34b0bacf9b345d9d674ff",
       "version_major": 2,
       "version_minor": 0
      },
      "text/plain": [
       "  0%|          | 0/1000 [00:00<?, ?it/s]"
      ]
     },
     "metadata": {},
     "output_type": "display_data"
    },
    {
     "name": "stderr",
     "output_type": "stream",
     "text": [
      "/tmp/ipykernel_456998/1539730571.py:52: UserWarning: The figure layout has changed to tight\n",
      "  fig.tight_layout()\n"
     ]
    },
    {
     "data": {
      "application/vnd.jupyter.widget-view+json": {
       "model_id": "87856d3e9253486cbdffec3fa329a620",
       "version_major": 2,
       "version_minor": 0
      },
      "text/plain": [
       "  0%|          | 0/200 [00:00<?, ?it/s]"
      ]
     },
     "metadata": {},
     "output_type": "display_data"
    }
   ],
   "source": [
    "main(\n",
    "    files=[GAMES_DIR / \"r0-v4096.sgfs\"],\n",
    "    title=r\"\\origcyclic{} vs. $\\cpfivezerofive{}^\\mathrm{4096\\,visits}$\",\n",
    "    output_path=f\"cyclic-heatmap-r0-v4096.pgf\",\n",
    ")\n",
    "main(\n",
    "    files=[GAMES_DIR / \"rs-vs-hs-v16\" / \"0.sgfs\"],\n",
    "    title=r\"Diff \\origcyclic{} vs. $\\cpfivezerofive{}^\\mathrm{16\\,visits}$ minus vs. $\\cpfivezerofive{}^\\mathrm{4096\\,visits}$\",\n",
    "    output_path=f\"cyclic-heatmap-diff-r0-v16-minus-v4096.pgf\",\n",
    "    diff_files=[GAMES_DIR / \"r0-v4096.sgfs\"],\n",
    ")"
   ]
  },
  {
   "cell_type": "code",
   "execution_count": null,
   "id": "5829b3f5-e3bf-4d87-b133-d5c7120e3e35",
   "metadata": {},
   "outputs": [
    {
     "data": {
      "application/vnd.jupyter.widget-view+json": {
       "model_id": "3642af61b8bd415099f1f6f7655f074f",
       "version_major": 2,
       "version_minor": 0
      },
      "text/plain": [
       "  0%|          | 0/200 [00:00<?, ?it/s]"
      ]
     },
     "metadata": {},
     "output_type": "display_data"
    },
    {
     "name": "stderr",
     "output_type": "stream",
     "text": [
      "/tmp/ipykernel_456998/1539730571.py:52: UserWarning: The figure layout has changed to tight\n",
      "  fig.tight_layout()\n"
     ]
    },
    {
     "data": {
      "application/vnd.jupyter.widget-view+json": {
       "model_id": "4afc2cacc322433e8be270baccccacc5",
       "version_major": 2,
       "version_minor": 0
      },
      "text/plain": [
       "  0%|          | 0/200 [00:00<?, ?it/s]"
      ]
     },
     "metadata": {},
     "output_type": "display_data"
    },
    {
     "name": "stderr",
     "output_type": "stream",
     "text": [
      "/tmp/ipykernel_456998/1539730571.py:52: UserWarning: The figure layout has changed to tight\n",
      "  fig.tight_layout()\n",
      "/tmp/ipykernel_456998/1539730571.py:52: UserWarning: The figure layout has changed to tight\n",
      "  fig.tight_layout()\n"
     ]
    },
    {
     "data": {
      "application/vnd.jupyter.widget-view+json": {
       "model_id": "03f87734857f4e539c0fd67cfa742df5",
       "version_major": 2,
       "version_minor": 0
      },
      "text/plain": [
       "  0%|          | 0/200 [00:00<?, ?it/s]"
      ]
     },
     "metadata": {},
     "output_type": "display_data"
    },
    {
     "name": "stderr",
     "output_type": "stream",
     "text": [
      "/tmp/ipykernel_456998/1539730571.py:52: UserWarning: The figure layout has changed to tight\n",
      "  fig.tight_layout()\n",
      "/tmp/ipykernel_456998/1539730571.py:52: UserWarning: The figure layout has changed to tight\n",
      "  fig.tight_layout()\n"
     ]
    },
    {
     "data": {
      "application/vnd.jupyter.widget-view+json": {
       "model_id": "b9fe3ec8960c4a41a4c0a9a060d7f48c",
       "version_major": 2,
       "version_minor": 0
      },
      "text/plain": [
       "  0%|          | 0/200 [00:00<?, ?it/s]"
      ]
     },
     "metadata": {},
     "output_type": "display_data"
    },
    {
     "name": "stderr",
     "output_type": "stream",
     "text": [
      "/tmp/ipykernel_456998/1539730571.py:52: UserWarning: The figure layout has changed to tight\n",
      "  fig.tight_layout()\n",
      "/tmp/ipykernel_456998/1539730571.py:52: UserWarning: The figure layout has changed to tight\n",
      "  fig.tight_layout()\n"
     ]
    },
    {
     "data": {
      "application/vnd.jupyter.widget-view+json": {
       "model_id": "8381e0d386a64cb4ac4e772a6dd06213",
       "version_major": 2,
       "version_minor": 0
      },
      "text/plain": [
       "  0%|          | 0/200 [00:00<?, ?it/s]"
      ]
     },
     "metadata": {},
     "output_type": "display_data"
    },
    {
     "name": "stderr",
     "output_type": "stream",
     "text": [
      "/tmp/ipykernel_456998/1539730571.py:52: UserWarning: The figure layout has changed to tight\n",
      "  fig.tight_layout()\n",
      "/tmp/ipykernel_456998/1539730571.py:52: UserWarning: The figure layout has changed to tight\n",
      "  fig.tight_layout()\n"
     ]
    },
    {
     "data": {
      "application/vnd.jupyter.widget-view+json": {
       "model_id": "2b967e0cfdc04428923c8caec40c9689",
       "version_major": 2,
       "version_minor": 0
      },
      "text/plain": [
       "  0%|          | 0/400 [00:00<?, ?it/s]"
      ]
     },
     "metadata": {},
     "output_type": "display_data"
    },
    {
     "name": "stderr",
     "output_type": "stream",
     "text": [
      "/tmp/ipykernel_456998/1539730571.py:52: UserWarning: The figure layout has changed to tight\n",
      "  fig.tight_layout()\n",
      "/tmp/ipykernel_456998/1539730571.py:52: UserWarning: The figure layout has changed to tight\n",
      "  fig.tight_layout()\n"
     ]
    },
    {
     "data": {
      "application/vnd.jupyter.widget-view+json": {
       "model_id": "40e15bc5924b45bf9f34f1c532d12713",
       "version_major": 2,
       "version_minor": 0
      },
      "text/plain": [
       "  0%|          | 0/500 [00:00<?, ?it/s]"
      ]
     },
     "metadata": {},
     "output_type": "display_data"
    },
    {
     "name": "stderr",
     "output_type": "stream",
     "text": [
      "/tmp/ipykernel_456998/1539730571.py:52: UserWarning: The figure layout has changed to tight\n",
      "  fig.tight_layout()\n",
      "/tmp/ipykernel_456998/1539730571.py:52: UserWarning: The figure layout has changed to tight\n",
      "  fig.tight_layout()\n"
     ]
    },
    {
     "data": {
      "application/vnd.jupyter.widget-view+json": {
       "model_id": "84cb8231a58d4be8bc5a9725636e26cb",
       "version_major": 2,
       "version_minor": 0
      },
      "text/plain": [
       "  0%|          | 0/200 [00:00<?, ?it/s]"
      ]
     },
     "metadata": {},
     "output_type": "display_data"
    },
    {
     "name": "stderr",
     "output_type": "stream",
     "text": [
      "/tmp/ipykernel_456998/1539730571.py:52: UserWarning: The figure layout has changed to tight\n",
      "  fig.tight_layout()\n",
      "/tmp/ipykernel_456998/1539730571.py:52: UserWarning: The figure layout has changed to tight\n",
      "  fig.tight_layout()\n"
     ]
    },
    {
     "data": {
      "application/vnd.jupyter.widget-view+json": {
       "model_id": "a44fbe390ab847e787863feee1a41c9e",
       "version_major": 2,
       "version_minor": 0
      },
      "text/plain": [
       "  0%|          | 0/900 [00:00<?, ?it/s]"
      ]
     },
     "metadata": {},
     "output_type": "display_data"
    },
    {
     "name": "stderr",
     "output_type": "stream",
     "text": [
      "/tmp/ipykernel_456998/1539730571.py:52: UserWarning: The figure layout has changed to tight\n",
      "  fig.tight_layout()\n",
      "/tmp/ipykernel_456998/1539730571.py:52: UserWarning: The figure layout has changed to tight\n",
      "  fig.tight_layout()\n"
     ]
    },
    {
     "data": {
      "application/vnd.jupyter.widget-view+json": {
       "model_id": "8f6f1bbea6cb4e93ac2d58caf28637fa",
       "version_major": 2,
       "version_minor": 0
      },
      "text/plain": [
       "  0%|          | 0/350 [00:00<?, ?it/s]"
      ]
     },
     "metadata": {},
     "output_type": "display_data"
    }
   ],
   "source": [
    "def attacker_name(i: int) -> str:\n",
    "    return r\"\\origcyclic{}\" if i == 0 else rf\"\\attackiter{{{i}}}\"\n",
    "def defender_name(i: int) -> str:\n",
    "    return r\"\\cpfivezerofive{}\" if i == 0 else rf\"\\defenseiter{{{i}}}\"\n",
    "\n",
    "for i in range(10):\n",
    "    main(\n",
    "        files=[GAMES_DIR / \"rs-vs-hs-v16\" / f\"{i}.sgfs\"],\n",
    "        title=rf\"{attacker_name(i)} vs. ${defender_name(i)}^\\mathrm{{16\\,visits}}$\",\n",
    "        output_path=f\"cyclic-heatmap-r{i}.pgf\",\n",
    "    )\n",
    "    if i == 0:\n",
    "        continue\n",
    "    main(\n",
    "        files=[GAMES_DIR / \"rs-vs-hs-v16\" / f\"{i}.sgfs\"],\n",
    "        title=rf\"Diff {attacker_name(i)} minus {attacker_name(i - 1)}\",\n",
    "        output_path=f\"cyclic-heatmap-diff-r{i}.pgf\",\n",
    "        diff_files=[GAMES_DIR / \"rs-vs-hs-v16\" / f\"{i - 1}.sgfs\"],\n",
    "    )"
   ]
  },
  {
   "cell_type": "code",
   "execution_count": null,
   "id": "a2b4803b-80be-4423-a48c-21a45d1d53e8",
   "metadata": {},
   "outputs": [],
   "source": []
  }
 ],
 "metadata": {
  "kernelspec": {
   "display_name": "Python 3 (ipykernel)",
   "language": "python",
   "name": "python3"
  },
  "language_info": {
   "codemirror_mode": {
    "name": "ipython",
    "version": 3
   },
   "file_extension": ".py",
   "mimetype": "text/x-python",
   "name": "python",
   "nbconvert_exporter": "python",
   "pygments_lexer": "ipython3",
   "version": "3.11.8"
  }
 },
 "nbformat": 4,
 "nbformat_minor": 5
}
