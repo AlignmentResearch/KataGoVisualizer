{
 "cells": [
  {
   "attachments": {},
   "cell_type": "markdown",
   "metadata": {},
   "source": [
    "Summarizes results of matches between finetuned adversaries and KataGo."
   ]
  },
  {
   "attachments": {},
   "cell_type": "markdown",
   "metadata": {},
   "source": [
    "### Load libraries"
   ]
  },
  {
   "cell_type": "code",
   "execution_count": 1,
   "metadata": {},
   "outputs": [],
   "source": [
    "%load_ext autoreload\n",
    "%autoreload 2"
   ]
  },
  {
   "cell_type": "code",
   "execution_count": 2,
   "metadata": {},
   "outputs": [],
   "source": [
    "import matplotlib.pyplot as plt\n",
    "import numpy as np\n",
    "import pandas as pd\n",
    "import utils\n",
    "from IPython.core.display import HTML\n",
    "from IPython.display import display\n",
    "from sgf_parser import game_info\n",
    "from statsmodels.stats.proportion import proportion_confint\n",
    "\n",
    "plt.style.use(\n",
    "    [\"tableau-colorblind10\", utils.get_style(\"default\"), utils.get_style(\"1-col\")]\n",
    ")"
   ]
  },
  {
   "attachments": {},
   "cell_type": "markdown",
   "metadata": {},
   "source": [
    "### Parse data"
   ]
  },
  {
   "cell_type": "code",
   "execution_count": 3,
   "metadata": {},
   "outputs": [
    {
     "data": {
      "text/plain": [
       "b60-s7701m-v1600          1400\n",
       "230520-s111218432-v600    1240\n",
       "230520-s97528320-v600     1200\n",
       "cp505-v1600               1000\n",
       "230518-s34275840-v600      500\n",
       "230520-s22809344-v600      500\n",
       "230520-s75567360-v600      500\n",
       "b60-s7701m-v4096           400\n",
       "cyclic-adv-v600            400\n",
       "b18-s5832m-v4096           400\n",
       "b60-s7702m-v4096           400\n",
       "cp505-v4096                400\n",
       "b18-s5832m-v1600           300\n",
       "b60-s7702m-v100000          40\n",
       "dtype: int64"
      ]
     },
     "execution_count": 3,
     "metadata": {},
     "output_type": "execute_result"
    }
   ],
   "source": [
    "df = utils.parse_sgfs(\n",
    "    [\n",
    "        \"/nas/ucb/k8/go-attack/match/ttseng-eval-ft-vs-b60-20230524-160144\",\n",
    "        \"/nas/ucb/k8/go-attack/match/ttseng-eval-ft-vs-b60-v1124-20230524-161516\",\n",
    "        \"/nas/ucb/k8/go-attack/match/ttseng-eval-ft-vs-b60-20230526-140744/\",\n",
    "        \"/nas/ucb/k8/go-attack/match/ttseng-eval-ft-vs-b60-v4096-20230526-140926\",\n",
    "        \"/nas/ucb/k8/go-attack/match/ttseng-eval-b60ft-vs-cp505-20230526-152339\",\n",
    "        \"/nas/ucb/k8/go-attack/match/ttseng-cyclic-vs-b60-s7702m-20230526-152118\",\n",
    "    ]\n",
    "    + [\n",
    "        \"/nas/ucb/k8/go-attack/match/tony-ft-vs-b18-20230529-195442\",\n",
    "        \"/nas/ucb/k8/go-attack/match/tony-ft-vs-b60-20230529-190938\",\n",
    "        \"/nas/ucb/k8/go-attack/match/tony-ft-vs-b60-v1e5-20230529-192608\",\n",
    "        \"/nas/ucb/k8/go-attack/match/tony-ft-vs-cp505-20230529-191349\",\n",
    "    ],\n",
    "    no_victim_okay=True,\n",
    ")\n",
    "pd.concat([df.b_name, df.w_name]).value_counts()"
   ]
  },
  {
   "attachments": {},
   "cell_type": "markdown",
   "metadata": {},
   "source": [
    "### Analyze data"
   ]
  },
  {
   "cell_type": "code",
   "execution_count": 4,
   "metadata": {},
   "outputs": [
    {
     "name": "stdout",
     "output_type": "stream",
     "text": [
      "Adversary: cyclic-adv-v600\n",
      "cyclic-adv-v600 vs b60-s7701m-v1600: 0/400 (0.00%)\n",
      "\n",
      "Adversary: 230518-s34275840-v600\n",
      "230518-s34275840-v600 vs b18-s5832m-v1600: 20/100 (20.00%)\n",
      "230518-s34275840-v600 vs b60-s7701m-v1600: 59/200 (29.50%)\n",
      "230518-s34275840-v600 vs cp505-v1600: 130/200 (65.00%)\n",
      "\n",
      "Adversary: 230520-s22809344-v600\n",
      "230520-s22809344-v600 vs b18-s5832m-v1600: 13/100 (13.00%)\n",
      "230520-s22809344-v600 vs b60-s7701m-v1600: 68/200 (34.00%)\n",
      "230520-s22809344-v600 vs cp505-v1600: 107/200 (53.50%)\n",
      "\n",
      "Adversary: 230520-s75567360-v600\n",
      "230520-s75567360-v600 vs b18-s5832m-v1600: 15/100 (15.00%)\n",
      "230520-s75567360-v600 vs b60-s7701m-v1600: 71/200 (35.50%)\n",
      "230520-s75567360-v600 vs cp505-v1600: 102/200 (51.00%)\n",
      "\n",
      "Adversary: 230520-s97528320-v600\n",
      "230520-s97528320-v600 vs b60-s7701m-v1600: 187/400 (46.75%)\n",
      "230520-s97528320-v600 vs b60-s7701m-v4096: 131/400 (32.75%)\n",
      "230520-s97528320-v600 vs cp505-v1600: 268/400 (67.00%)\n",
      "\n",
      "Adversary: 230520-s111218432-v600\n",
      "230520-s111218432-v600 vs b18-s5832m-v4096: 51/400 (12.75%)\n",
      "230520-s111218432-v600 vs b60-s7702m-v100000: 7/40 (17.50%)\n",
      "230520-s111218432-v600 vs b60-s7702m-v4096: 188/400 (47.00%)\n",
      "230520-s111218432-v600 vs cp505-v4096: 220/400 (55.00%)\n",
      "\n"
     ]
    }
   ],
   "source": [
    "for adv in [\n",
    "    \"cyclic-adv-v600\",\n",
    "    \"230518-s34275840-v600\",\n",
    "    \"230520-s22809344-v600\",\n",
    "    \"230520-s75567360-v600\",\n",
    "    \"230520-s97528320-v600\",\n",
    "    \"230520-s111218432-v600\",\n",
    "]:\n",
    "    sub_df = df.query(\"b_name == @adv or w_name == @adv\")\n",
    "\n",
    "    print(f\"Adversary: {adv}\")\n",
    "    for opp in sorted(pd.concat([sub_df.b_name, sub_df.w_name]).unique()):\n",
    "        if opp == adv:\n",
    "            continue\n",
    "\n",
    "        opp_df = sub_df.query(\n",
    "            \"|\".join(\n",
    "                [\n",
    "                    \"(b_name == @opp and w_name == @adv)\",\n",
    "                    \"(b_name == @adv and w_name == @opp)\",\n",
    "                ]\n",
    "            )\n",
    "        )\n",
    "        tot_games = len(opp_df)\n",
    "        if tot_games == 0:\n",
    "            continue\n",
    "\n",
    "        n_games_won = (opp_df.win_name == adv).sum()\n",
    "        print(\n",
    "            f\"{adv} vs {opp}: {n_games_won}/{tot_games} ({n_games_won/tot_games:.2%})\"\n",
    "        )\n",
    "    print()"
   ]
  },
  {
   "attachments": {},
   "cell_type": "markdown",
   "metadata": {},
   "source": [
    "### Visualize some games"
   ]
  },
  {
   "cell_type": "code",
   "execution_count": 5,
   "metadata": {},
   "outputs": [],
   "source": [
    "from IPython.core.display import HTML\n",
    "from IPython.display import display\n",
    "\n",
    "def display_link(link: str, text: str = \"Link to game\"):\n",
    "    display(HTML(f'<a href=\"{link}\">{text}</a>'))"
   ]
  },
  {
   "cell_type": "code",
   "execution_count": 6,
   "metadata": {},
   "outputs": [
    {
     "name": "stdout",
     "output_type": "stream",
     "text": [
      "Winning games\n"
     ]
    },
    {
     "data": {
      "text/html": [
       "<a href=\"https://humancompatibleai.github.io/sgf-viewer/#sgf=(;FF[4]GM[1]SZ[19]PB[230520-s111218432-v600]PW[b60-s7702m-v100000]BR[algo=AMCTS,v=600,rsym=1,opp_v=1,opp_rsym=1]WR[algo=MCTS,v=100000,rsym=1]HA[0]DT[20230530-023012~20230530-144613]KM[6.5]RU[koPOSITIONALscoreAREAtaxNONEsui1]RE[B+54.5];B[qc];W[dp];B[cq];W[cp];B[cc];W[dq];B[qq];W[dj];B[dk];W[ej];B[fk];W[ek];B[fl];W[el];B[fj];W[fi];B[dm];W[fm];B[gi];W[gh];B[hi];W[hh];B[ii];W[fh];B[ci];W[cj];B[gm];W[gn];B[hm];W[hn];B[im];W[in];B[jm];W[ce];B[dc];W[cg];B[pd];W[fc];B[eb];W[kp];B[fb];W[nq];B[pr];W[pp];B[qp];W[lq];B[mc];W[qi];B[nr];W[oq];B[or];W[pg];B[rn];W[lc];B[lb];W[mr];B[di];W[fe];B[be];W[bf];B[bd];W[qe];B[hg];W[ih];B[ji];W[ed];B[rd];W[ld];B[fg];W[hc];B[hb];W[ic];B[re];W[md];B[nc];W[jh];B[ki];W[lg];B[kb];W[ql];B[mh];W[kn];B[km];W[ln];B[eh];W[ei];B[kg];W[kh];B[rh];W[lh];B[mn];W[lm];B[ll];W[qn];B[qo];W[pn];B[qf];W[ml];B[lk];W[rm];B[so];W[mk];B[ko];W[jn];B[lj];W[mj];B[rk];W[qk];B[ri];W[rj];B[lf];W[nf];B[nd];W[ne];B[bj];W[bh];B[bi];W[de];B[sj];W[qj];B[bl];W[cl];B[pe];W[qg];B[rg];W[pf];B[cm];W[bn];B[ck];W[dl];B[rf];W[ib];B[ga];W[gc];B[ja];W[oe];B[nl];W[po];B[ms];W[ls];B[ns];W[od];B[dr];W[br];B[oc];W[sm];B[iq];W[cr];B[hq];W[li];B[lo];W[jr];B[jo];W[sn];B[ro];W[kc];B[en];W[fn];B[fo];W[gp];B[go];W[fp];B[eo];W[em];B[jb];W[gb];B[gg];W[ha];B[bm];W[cn];B[ig];W[ec];B[lr];W[kr];B[db];W[fa];B[mg];W[bb];B[ba];W[ae];B[bc];W[sk];B[nj];W[si];B[nk];W[mm];B[nm];W[bk];B[dk];W[ca];B[ab];W[ad];B[cb];W[jc];B[ak];W[nn];B[mo];W[dh];B[eg];W[jg];B[kf];W[sh];B[jf];W[gj];B[gk];W[kj];B[jk];W[hk];B[gl];W[ni];B[oi];W[hj];B[ij];W[nh];B[ng];W[il];B[ik];W[mi];B[mf];W[oh];B[pi];W[sg];B[ph];W[qh];B[og];W[rr];B[oj];W[kl];B[kk];W[pc];B[pb];W[al];B[am];W[aj];B[ai];W[an];B[io];W[qr];B[ho];W[pq];B[me];W[gr];B[of];W[ir];B[ep];W[eq];B[sf];W[sj];B[mp];W[mq];B[hr];W[hs];B[he];W[ge];B[ie];W[om];B[no];W[ol];B[ck];W[ah];B[on];W[df];B[gq];W[fq];B[jp];W[pk];B[do];W[co];B[oo];W[hd];B[ef];W[ea];B[da];W[ga];B[lp];W[gf];B[hp];W[kq];B[hf];W[kd];B[id];W[jd];B[ch];W[dg];B[ok];W[ee];B[dn];W[ia];B[ac];W[af];B[np];W[op];B[ke];W[jq];B[pj];W[ff];B[je];W[le];B[dd];W[cd];B[];W[rq];B[];W[ps];B[pc];W[is];B[];W[bg];B[];W[pl];B[];W[fr];B[];W[pm];B[];W[lr];B[];W[qs];B[];W[gs];B[];W[sl];B[jl];W[os];B[qd];W[or];B[ne];W[ds];B[];W[cs];B[mb];W[sp];B[];W[er];B[];W[bq];B[];W[sq];B[];W[])\n",
       "\">Link to game</a>"
      ],
      "text/plain": [
       "<IPython.core.display.HTML object>"
      ]
     },
     "metadata": {},
     "output_type": "display_data"
    },
    {
     "data": {
      "text/html": [
       "<a href=\"https://humancompatibleai.github.io/sgf-viewer/#sgf=(;FF[4]GM[1]SZ[19]PB[230520-s111218432-v600]PW[b60-s7702m-v100000]BR[algo=AMCTS,v=600,rsym=1,opp_v=1,opp_rsym=1]WR[algo=MCTS,v=100000,rsym=1]HA[0]DT[20230530-022721~20230530-200751]KM[6.5]RU[koPOSITIONALscoreAREAtaxNONEsui1]RE[B+90.5];B[qc];W[dp];B[cq];W[cp];B[cc];W[dq];B[qq];W[pd];B[qd];W[pf];B[pc];W[jp];B[qe];W[dd];B[dc];W[fd];B[cd];W[df];B[ip];W[io];B[in];W[ho];B[jn];W[jo];B[kp];W[ko];B[kn];W[ln];B[mo];W[lo];B[lm];W[oq];B[pr];W[mm];B[ll];W[or];B[hn];W[qo];B[rp];W[pn];B[os];W[ns];B[pq];W[ps];B[ro];W[rn];B[rr];W[gn];B[gm];W[fm];B[gl];W[fl];B[gk];W[fk];B[gj];W[di];B[bf];W[cg];B[ej];W[fj];B[bg];W[bi];B[gc];W[ml];B[fh];W[fi];B[lk];W[gi];B[ei];W[eh];B[hi];W[hh];B[ii];W[qi];B[eg];W[dh];B[rh];W[qh];B[rg];W[hm];B[hl];W[mk];B[nj];W[lj];B[kj];W[ki];B[kk];W[mj];B[lh];W[op];B[mi];W[li];B[qs];W[kc];B[jb];W[nf];B[ji];W[fc];B[gb];W[jg];B[ri];W[qj];B[fb];W[qf];B[rf];W[md];B[gg];W[bh];B[oc];W[je];B[rj];W[hj];B[hk];W[rl];B[pe];W[hf];B[rk];W[qk];B[lb];W[hd];B[if];W[ie];B[eb];W[lc];B[jq];W[gp];B[fo];W[go];B[oe];W[of];B[mb];W[cf];B[be];W[kb];B[ka];W[nb];B[oa];W[nc];B[kg];W[jh];B[ob];W[la];B[ib];W[na];B[ma];W[hc];B[hb];W[mc];B[os];W[nr];B[lp];W[ed];B[ce];W[pp];B[hg];W[ih];B[jf];W[gd];B[nm];W[mn];B[ah];W[ai];B[no];W[ne];B[nn];W[qg];B[ig];W[ag];B[sl];W[sm];B[fp];W[ir];B[hr];W[jr];B[gq];W[hq];B[gr];W[fq];B[kr];W[hp];B[en];W[sk];B[is];W[hs];B[sj];W[la];B[gs];W[iq];B[mh];W[ja];B[cm];W[bo];B[el];W[gh];B[fg];W[de];B[kq];W[sl];B[js];W[fr];B[ek];W[kh];B[hs];W[so];B[em];W[fn];B[eo];W[qp];B[sp];W[mp];B[kf];W[ks];B[ls];W[lr];B[mq];W[np];B[lq];W[fs];B[ks];W[sr];B[rq];W[od];B[nk];W[mr];B[nl];W[nq];B[ip];W[bm];B[bl];W[cn];B[cl];W[pl];B[am];W[bn];B[cj];W[ep];B[ke];W[jd];B[bj];W[gf];B[oi];W[ps];B[nd];W[os];B[rs];W[an];B[ff];W[al];B[ak];W[fe];B[od];W[oo];B[dj];W[dn];B[am];W[do];B[le];W[dm];B[oh];W[mg];B[ci];W[ch];B[dl];W[ic];B[ol];W[pm];B[af];W[ia];B[ha];W[ka];B[sn];W[nh];B[me];W[al];B[so];W[og];B[am];W[ph];B[al];W[ef];B[ni];W[ng];B[mf];W[lg];B[pj];W[pk];B[pi];W[ah];B[ok];W[kd];B[om];W[ec];B[ms];W[ld];B[ge];W[he];B[qm];W[qn];B[dg];W[jc];B[bq];W[cr];B[lf];W[on];B[aj];W[dr];B[ss];W[bp];B[ih];W[aq];B[ij];W[br];B[im];W[ad];B[ac];W[eq];B[bd];W[rm];B[ae];W[ap];B[];W[ql];B[];W[])\n",
       "\">Link to game</a>"
      ],
      "text/plain": [
       "<IPython.core.display.HTML object>"
      ]
     },
     "metadata": {},
     "output_type": "display_data"
    },
    {
     "data": {
      "text/html": [
       "<a href=\"https://humancompatibleai.github.io/sgf-viewer/#sgf=(;FF[4]GM[1]SZ[19]PB[230520-s111218432-v600]PW[b60-s7702m-v100000]BR[algo=AMCTS,v=600,rsym=1,opp_v=1,opp_rsym=1]WR[algo=MCTS,v=100000,rsym=1]HA[0]DT[20230530-022728~20230530-135440]KM[6.5]RU[koPOSITIONALscoreAREAtaxNONEsui1]RE[B+84.5];B[qc];W[dp];B[cq];W[cp];B[cc];W[dq];B[qq];W[pd];B[qd];W[pf];B[pc];W[dj];B[dk];W[ek];B[fk];W[el];B[fj];W[ej];B[di];W[ei];B[fi];W[fh];B[eg];W[eh];B[fl];W[ce];B[bd];W[cg];B[gh];W[gg];B[hh];W[ec];B[be];W[bf];B[db];W[hg];B[if];W[ig];B[ih];W[jg];B[eb];W[in];B[hm];W[fm];B[gm];W[jl];B[io];W[ho];B[im];W[ip];B[jo];W[jn];B[jm];W[ko];B[jh];W[km];B[kl];W[kh];B[go];W[jk];B[ij];W[fn];B[ki];W[gn];B[kk];W[pq];B[kp];W[jp];B[qp];W[op];B[ln];W[on];B[po];W[oo];B[pr];W[or];B[rr];W[lm];B[mm];W[ll];B[ml];W[lk];B[oq];W[nq];B[kj];W[gl];B[ik];W[hn];B[il];W[qm];B[mk];W[nc];B[ob];W[ro];B[rp];W[gc];B[rf];W[kn];B[fb];W[pj];B[ri];W[qi];B[rh];W[qg];B[lg];W[mi];B[qk];W[pk];B[mj];W[lj];B[rg];W[gi];B[gk];W[lc];B[nb];W[lh];B[mb];W[od];B[rl];W[jc];B[kb];W[rm];B[jf];W[kc];B[hb];W[ge];B[qj];W[qh];B[ni];W[hc];B[gb];W[dd];B[ib];W[mc];B[pp];W[ql];B[rj];W[oq];B[cj];W[li];B[qs];W[cd];B[bc];W[qe];B[re];W[lb];B[dh];W[fc];B[bj];W[bl];B[dl];W[af];B[eo];W[dm];B[dn];W[cl];B[jb];W[ma];B[ck];W[em];B[hq];W[pn];B[cm];W[bm];B[hp];W[er];B[fo];W[sl];B[cn];W[bn];B[kq];W[os];B[rk];W[so];B[sp];W[oc];B[pa];W[ae];B[lo];W[ks];B[jq];W[is];B[ir];W[js];B[gf];W[qf];B[ff];W[ad];B[mh];W[fg];B[io];W[ac];B[mg];W[dg];B[ef];W[bb];B[cb];W[ic];B[hf];W[kg];B[ci];W[kf];B[ke];W[lf];B[mf];W[le];B[ld];W[ba];B[kd];W[me];B[md];W[nj];B[nh];W[nf];B[nd];W[oh];B[ng];W[of];B[oi];W[gj];B[hk];W[mn];B[ne];W[lp];B[mo];W[no];B[nn];W[ji];B[jj];W[mp];B[mn];W[ps];B[qr];W[lq];B[en];W[gr];B[bh];W[pi];B[jo];W[ab];B[kr];W[lr];B[hr];W[hs];B[qo];W[sm];B[oj];W[ol];B[fq];W[fr];B[gq];W[ak];B[df];W[cf];B[bk];W[al];B[qn];W[og];B[rn];W[sn];B[ka];W[la];B[he];W[fe];B[id];W[hd];B[jd];W[om];B[sk];W[co];B[ok];W[nl];B[ee];W[ed];B[nk];W[ca];B[da];W[na];B[oa];W[ep];B[aj];W[ah];B[ai];W[ag];B[oe];W[fp];B[ch];W[eq];B[gp];W[pe];B[nm];W[dc];B[ls];W[gs];B[bg];W[de];B[do];W[jr];B[hi];W[bo];B[kf];W[cr];B[fh];W[bq];B[iq];W[ms];B[];W[mq];B[];W[pm];B[];W[gd];B[];W[ns];B[];W[ls];B[];W[dr];B[];W[br];B[];W[])\n",
       "\">Link to game</a>"
      ],
      "text/plain": [
       "<IPython.core.display.HTML object>"
      ]
     },
     "metadata": {},
     "output_type": "display_data"
    },
    {
     "data": {
      "text/html": [
       "<a href=\"https://humancompatibleai.github.io/sgf-viewer/#sgf=(;FF[4]GM[1]SZ[19]PB[230520-s111218432-v600]PW[b60-s7702m-v100000]BR[algo=AMCTS,v=600,rsym=1,opp_v=1,opp_rsym=1]WR[algo=MCTS,v=100000,rsym=1]HA[0]DT[20230530-022738~20230530-135812]KM[6.5]RU[koPOSITIONALscoreAREAtaxNONEsui1]RE[B+106.5];B[qc];W[dp];B[cq];W[cp];B[cc];W[dq];B[qq];W[dj];B[dk];W[ej];B[fk];W[ek];B[fl];W[el];B[fj];W[fi];B[di];W[ei];B[fm];W[jp];B[dn];W[em];B[pd];W[fn];B[gn];W[go];B[hn];W[ho];B[in];W[cf];B[dc];W[ed];B[ec];W[lp];B[kp];W[ko];B[kq];W[lq];B[gp];W[io];B[jn];W[jo];B[gi];W[oq];B[qn];W[po];B[qo];W[gh];B[hi];W[hh];B[ii];W[gd];B[lc];W[qh];B[fc];W[qk];B[pr];W[pq];B[qr];W[ef];B[eh];W[fh];B[rj];W[qj];B[lo];W[kn];B[jq];W[lr];B[km];W[lm];B[kl];W[ll];B[mk];W[lk];B[kk];W[lj];B[be];W[bf];B[rk];W[jj];B[ij];W[ql];B[kj];W[pn];B[mi];W[li];B[ri];W[pg];B[rl];W[qm];B[rm];W[nf];B[od];W[ld];B[mc];W[jd];B[or];W[nr];B[hg];W[jg];B[lh];W[ki];B[ji];W[md];B[nd];W[gm];B[hm];W[kc];B[ig];W[gj];B[gk];W[nc];B[nb];W[ih];B[kb];W[lb];B[mb];W[jb];B[hb];W[hl];B[gl];W[ik];B[jk];W[jm];B[im];W[gc];B[gb];W[me];B[bd];W[fd];B[la];W[ic];B[qf];W[qp];B[rp];W[pp];B[jf];W[jh];B[ro];W[pf];B[qe];W[rg];B[rf];W[ce];B[sg];W[ae];B[bc];W[ib];B[rh];W[qi];B[kg];W[ns];B[eo];W[fo];B[ep];W[cr];B[fp];W[af];B[jr];W[iq];B[ir];W[hq];B[ip];W[hp];B[hr];W[ad];B[gq];W[fr];B[gr];W[dr];B[ac];W[os];B[ci];W[ps];B[qs];W[hc];B[fg];W[en];B[gg];W[ha];B[fb];W[qg];B[mm];W[dd];B[mn];W[dm];B[bj];W[bk];B[ck];W[cl];B[bl];W[bm];B[ak];W[ga];B[fa];W[ia];B[cn];W[cm];B[bn];W[kh];B[am];W[ai];B[lg];W[do];B[cj];W[eg];B[dh];W[kf];B[je];W[oe];B[dl];W[ln];B[mo];W[rq];B[rr];W[rs];B[sr];W[sh];B[si];W[nq];B[mj];W[sq];B[sp];W[if];B[ml];W[ie];B[ke];W[kd];B[ip];W[bo];B[om];W[pm];B[bh];W[ka];B[ja];W[ba];B[dg];W[da];B[db];W[ea];B[ca];W[ka];B[lb];W[cb];B[ah];W[cd];B[ab];W[oj];B[bb];W[ca];B[df];W[nh];B[hf];W[he];B[ee];W[fe];B[ff];W[ol];B[lf];W[nl];B[nk];W[nm];B[ok];W[pk];B[ks];W[de];B[ef];W[kr];B[no];W[oo];B[nn];W[on];B[ls];W[ms];B[js];W[gs];B[hs];W[fs];B[eq];W[er];B[ni];W[oi];B[ao];W[ap];B[co];W[an];B[mp];W[ao];B[mq];W[mr];B[pe];W[ne];B[cg];W[mg];B[np];W[ja];B[gf];W[mh];B[mf];W[le];B[ng];W[og];B[bq];W[br];B[bi];W[ag];B[ss];W[bg];B[oh];W[ph];B[ko];W[ge];B[lj];W[op];B[ek];W[nj];B[oc];W[fq];B[il];W[aq];B[ki];W[ar];B[aj];W[bp];B[];W[])\n",
       "\">Link to game</a>"
      ],
      "text/plain": [
       "<IPython.core.display.HTML object>"
      ]
     },
     "metadata": {},
     "output_type": "display_data"
    },
    {
     "data": {
      "text/html": [
       "<a href=\"https://humancompatibleai.github.io/sgf-viewer/#sgf=(;FF[4]GM[1]SZ[19]PB[230520-s111218432-v600]PW[b60-s7702m-v100000]BR[algo=AMCTS,v=600,rsym=1,opp_v=1,opp_rsym=1]WR[algo=MCTS,v=100000,rsym=1]HA[0]DT[20230530-023012~20230530-133856]KM[6.5]RU[koPOSITIONALscoreAREAtaxNONEsui1]RE[B+110.5];B[qc];W[dp];B[cq];W[cp];B[qq];W[dq];B[cc];W[dj];B[dk];W[ej];B[fk];W[ek];B[fl];W[el];B[fj];W[fm];B[di];W[ei];B[gm];W[ce];B[dc];W[df];B[fi];W[fh];B[eg];W[eh];B[gh];W[gg];B[hh];W[hg];B[ih];W[fc];B[eb];W[ig];B[jf];W[jg];B[jh];W[kg];B[lg];W[kh];B[pd];W[fb];B[bd];W[lq];B[fa];W[gn];B[hm];W[hn];B[im];W[in];B[jm];W[ko];B[jo];W[jn];B[ki];W[oq];B[pq];W[op];B[qo];W[km];B[ln];W[kn];B[gb];W[be];B[kl];W[ll];B[kk];W[li];B[kj];W[qh];B[or];W[nr];B[pr];W[gi];B[gj];W[pn];B[qn];W[jc];B[ns];W[gl];B[hk];W[mr];B[ri];W[mc];B[nb];W[gc];B[hb];W[jl];B[ik];W[hc];B[ib];W[jb];B[ja];W[nc];B[ob];W[ic];B[qf];W[pm];B[qm];W[pk];B[rk];W[ng];B[pf];W[mk];B[bb];W[oh];B[mb];W[ji];B[ii];W[ne];B[lb];W[ec];B[ea];W[ql];B[rl];W[qi];B[rh];W[kc];B[mi];W[db];B[cb];W[lj];B[kb];W[dd];B[nk];W[qj];B[rj];W[ad];B[ac];W[ae];B[lo];W[po];B[kp];W[lm];B[mm];W[pp];B[qp];W[qg];B[rg];W[oe];B[ir];W[hr];B[od];W[nd];B[oc];W[pe];B[qe];W[ms];B[gf];W[os];B[hq];W[gr];B[ps];W[lk];B[bl];W[bk];B[ak];W[cd];B[bc];W[ns];B[cj];W[ck];B[bj];W[cl];B[cm];W[dl];B[dm];W[bm];B[al];W[qk];B[dh];W[em];B[bn];W[cn];B[am];W[bo];B[dn];W[co];B[bh];W[lc];B[en];W[dg];B[ff];W[of];B[ci];W[pg];B[kf];W[fn];B[fo];W[eo];B[go];W[bg];B[ho];W[jr];B[ml];W[mh];B[ni];W[cg];B[nh];W[nj];B[oi];W[mj];B[oj];W[iq];B[mg];W[cr];B[io];W[lh];B[ok];W[lp];B[mo];W[mn];B[jp];W[fe];B[nn];W[lf];B[mf];W[ge];B[hf];W[fg];B[ef];W[nf];B[le];W[do];B[bm];W[aj];B[ai];W[an];B[ao];W[hj];B[hi];W[da];B[ca];W[jj];B[jk];W[ka];B[la];W[me];B[lf];W[ap];B[if];W[fp];B[gq];W[fq];B[dk];W[jq];B[ee];W[ed];B[kq];W[kr];B[mp];W[mq];B[ol];W[he];B[ag];W[ie];B[ld];W[pi];B[np];W[gp];B[hp];W[jd];B[pl];W[nq];B[on];W[om];B[oo];W[af];B[nm];W[an];B[ah];W[ao];B[je];W[kd];B[de];W[md];B[ga];W[ip];B[ia];W[ch];B[eq];W[fr];B[pj];W[ke];B[hl];W[lr];B[rf];W[er];B[fh];W[ep];B[];W[bq];B[];W[is];B[];W[og];B[];W[bf];B[];W[gd];B[];W[js];B[];W[cq];B[];W[])\n",
       "\">Link to game</a>"
      ],
      "text/plain": [
       "<IPython.core.display.HTML object>"
      ]
     },
     "metadata": {},
     "output_type": "display_data"
    },
    {
     "name": "stdout",
     "output_type": "stream",
     "text": [
      "Losing games\n"
     ]
    },
    {
     "data": {
      "text/html": [
       "<a href=\"https://humancompatibleai.github.io/sgf-viewer/#sgf=(;FF[4]GM[1]SZ[19]PB[b60-s7702m-v100000]PW[230520-s111218432-v600]BR[algo=MCTS,v=100000,rsym=1]WR[algo=AMCTS,v=600,rsym=1,opp_v=1,opp_rsym=1]HA[0]DT[20230530-022725~20230530-161838]KM[6.5]RU[koPOSITIONALscoreAREAtaxNONEsui1]RE[B+160.5];B[pd];W[qc];B[qd];W[cq];B[pc];W[cc];B[pp];W[qq];B[pq];W[cm];B[qp];W[dd];B[pj];W[qj];B[qi];W[oj];B[pi];W[ok];B[pk];W[oi];B[ol];W[nl];B[ip];W[fq];B[om];W[pm];B[nm];W[qh];B[ph];W[ml];B[mm];W[ll];B[lm];W[ln];B[kl];W[jm];B[km];W[dp];B[jd];W[pr];B[or];W[jq];B[iq];W[oh];B[jo];W[pf];B[og];W[ng];B[nf];W[mg];B[mf];W[lg];B[lf];W[kg];B[gp];W[ke];B[kf];W[pb];B[ob];W[je];B[jf];W[kk];B[ie];W[jk];B[jl];W[cf];B[hc];W[gr];B[hr];W[kc];B[fc];W[eb];B[ik];W[ij];B[ec];W[db];B[ib];W[hl];B[il];W[cj];B[hj];W[ii];B[fl];W[im];B[hk];W[on];B[pg];W[jg];B[dm];W[dl];B[em];W[dn];B[dg];W[cl];B[fp];W[gk];B[gl];W[ep];B[eq];W[hm];B[eo];W[er];B[do];W[co];B[en];W[gj];B[hi];W[ih];B[cn];W[bn];B[bo];W[cp];B[gq];W[dq];B[cg];W[bf];B[gg];W[bg];B[di];W[ci];B[ej];W[mp];B[qr];W[hf];B[fb];W[fa];B[bm];W[an];B[ao];W[dn];B[nk];W[mk];B[cn];W[ri];B[am];W[bq];B[mj];W[nj];B[rh];W[si];B[qk];W[qg];B[if];W[bk];B[dc];W[rg];B[re];W[cb];B[ee];W[de];B[ch];W[rl];B[rk];W[bh];B[gs];W[bn];B[an];W[fr];B[lj];W[lk];B[jj];W[kj];B[hh];W[ql];B[ig];W[ji];B[ed];W[aq];B[ga];W[lq];B[qn];W[bl];B[dj];W[gi];B[df];W[id];B[al];W[fg];B[nh];W[ni];B[bj];W[ak];B[ce];W[cd];B[mh];W[mi];B[bi];W[ck];B[dk];W[ai];B[el];W[aj];B[ea];W[ne];B[hs];W[da];B[fs];W[es];B[fa];W[hd];B[qf];W[he];B[oe];W[nd];B[me];W[md];B[nc];W[pe];B[pa];W[rf];B[qe];W[rj];B[rm];W[le];B[gh];W[sk];B[pn];W[fh];B[dn];W[sf];B[sh];W[qb];B[bn];W[sg];B[bp];W[sd];B[se];W[rd];B[mc];W[rc];B[rb];W[qa];B[sb];W[ld];B[ap];W[od];B[oc];W[lb];B[ic];W[mb];B[nb];W[lc];B[ma];W[la];B[of];W[oa];B[na];W[pe];B[pf];W[gf];B[nn];W[mn];B[kn];W[qm];B[rn];W[oo];B[jc];W[ko];B[no];W[jn];B[kp];W[lo];B[np];W[op];B[oq];W[nq];B[nr];W[lp];B[pa];W[mo];B[mq];W[lh];B[rq];W[];B[ef];W[];B[ps];W[];B[hp];W[];B[jr];W[];B[kq];W[];B[in];W[];B[kb];W[];B[gm];W[];B[eh];W[];B[po];W[];B[sl];W[];B[gd];W[bi];B[ka];W[];B[pl];W[];B[hn];W[];B[lr];W[];B[sa];W[be];B[jp];W[];B[oa];W[li];B[sm];W[];B[kd];W[];B[dh];W[];B[ff];W[];B[hg];W[];B[ge];W[];B[hq];W[jh];B[kc];W[];B[lc];W[dr];B[hd];W[];B[ko];W[];B[eg];W[];B[rl];W[];B[fi];W[];B[ei];W[];B[ho];W[];B[fj];W[];B[qq];W[];B[fk];W[];B[os];W[];B[br];W[];B[cr];W[ar];B[rh];W[sc];B[sj];W[ro];B[rp];W[ce];B[so];W[ra];B[sb];W[lj];B[cs];W[bs];B[sn];W[ds];B[rb];W[];B[sk];W[];B[sh];W[];B[sa];W[];B[])\n",
       "\">Link to game</a>"
      ],
      "text/plain": [
       "<IPython.core.display.HTML object>"
      ]
     },
     "metadata": {},
     "output_type": "display_data"
    },
    {
     "data": {
      "text/html": [
       "<a href=\"https://humancompatibleai.github.io/sgf-viewer/#sgf=(;FF[4]GM[1]SZ[19]PB[b60-s7702m-v100000]PW[230520-s111218432-v600]BR[algo=MCTS,v=100000,rsym=1]WR[algo=AMCTS,v=600,rsym=1,opp_v=1,opp_rsym=1]HA[0]DT[20230530-022722~20230530-193628]KM[6.5]RU[koPOSITIONALscoreAREAtaxNONEsui1]RE[B+148.5];B[pd];W[qc];B[qd];W[cq];B[pc];W[cc];B[pp];W[qq];B[pq];W[cf];B[qp];W[cn];B[pj];W[qj];B[qi];W[oj];B[pi];W[ok];B[pk];W[oi];B[ol];W[nl];B[dm];W[pm];B[nm];W[ml];B[mm];W[qh];B[ph];W[ll];B[lm];W[kn];B[km];W[kl];B[jm];W[oh];B[iq];W[hr];B[pg];W[ir];B[kq];W[im];B[jl];W[jk];B[il];W[dp];B[jr];W[hq];B[ip];W[cl];B[go];W[ci];B[dc];W[cd];B[ic];W[pb];B[ob];W[pf];B[og];W[ng];B[nf];W[mg];B[mf];W[lg];B[lf];W[rp];B[rq];W[kg];B[je];W[fp];B[gc];W[ie];B[jf];W[if];B[jg];W[ri];B[qk];W[qg];B[rj];W[jh];B[ig];W[hl];B[hk];W[rh];B[gl];W[jj];B[gp];W[hg];B[ih];W[ji];B[gq];W[er];B[cm];W[bm];B[eb];W[hm];B[bl];W[bk];B[dl];W[al];B[dn];W[co];B[of];W[eo];B[fm];W[gr];B[fq];W[fr];B[ff];W[cb];B[eg];W[hh];B[hi];W[db];B[ei];W[ec];B[fb];W[ed];B[de];W[df];B[ee];W[dd];B[fd];W[ce];B[dk];W[eq];B[hp];W[cj];B[dg];W[js];B[ks];W[cg];B[di];W[qf];B[en];W[jn];B[ik];W[hj];B[ij];W[ea];B[fa];W[gj];B[ii];W[do];B[da];W[gi];B[ca];W[bb];B[fo];W[gk];B[ba];W[jc];B[fc];W[le];B[rc];W[nc];B[ke];W[rl];B[rk];W[jd];B[nb];W[ql];B[is];W[ne];B[kf];W[oe];B[ch];W[bh];B[dh];W[nn];B[kd];W[kc];B[mc];W[ld];B[pl];W[sj];B[sk];W[sl];B[kh];W[li];B[kk];W[kj];B[nh];W[mi];B[ni];W[nj];B[ck];W[mn];B[qm];W[pn];B[bj];W[bi];B[ef];W[rm];B[qn];W[rn];B[qo];W[ln];B[si];W[sh];B[ro];W[me];B[sn];W[sj];B[lh];W[mh];B[si];W[on];B[hs];W[sj];B[sm];W[sl];B[ab];W[rl];B[bl];W[ql];B[rm];W[aj];B[ac];W[ad];B[bd];W[ae];B[ea];W[bc];B[aa];W[ql];B[dj];W[cl];B[lj];W[ki];B[bl];W[gs];B[js];W[ep];B[cl];W[];B[gh];W[bn];B[si];W[];B[qr];W[qb];B[rb];W[mj];B[in];W[bg];B[jo];W[];B[ko];W[be];B[lo];W[om];B[no];W[hn];B[io];W[mk];B[sp];W[];B[pe];W[lk];B[pa];W[ak];B[qa];W[];B[nd];W[];B[hc];W[];B[jb];W[];B[kb];W[];B[lc];W[];B[he];W[];B[oc];W[];B[ra];W[];B[mo];W[am];B[fj];W[];B[id];W[];B[hf];W[];B[oo];W[];B[rg];W[];B[gf];W[];B[rf];W[];B[sg];W[];B[ib];W[];B[lb];W[];B[rd];W[];B[nc];W[];B[rr];W[];B[re];W[];B[gg];W[];B[po];W[];B[fk];W[];B[dr];W[dq];B[fi];W[lq];B[lp];W[];B[cr];W[br];B[mq];W[nq];B[em];W[];B[bs];W[bq];B[qe];W[];B[nr];W[];B[ss];W[];B[lr];W[ds];B[sh];W[as];B[ar];W[aq];B[od];W[cs];B[md];W[as];B[oq];W[];B[np];W[];B[gk];W[];B[])\n",
       "\">Link to game</a>"
      ],
      "text/plain": [
       "<IPython.core.display.HTML object>"
      ]
     },
     "metadata": {},
     "output_type": "display_data"
    },
    {
     "data": {
      "text/html": [
       "<a href=\"https://humancompatibleai.github.io/sgf-viewer/#sgf=(;FF[4]GM[1]SZ[19]PB[230520-s111218432-v600]PW[b60-s7702m-v100000]BR[algo=AMCTS,v=600,rsym=1,opp_v=1,opp_rsym=1]WR[algo=MCTS,v=100000,rsym=1]HA[0]DT[20230530-022722~20230530-200728]KM[6.5]RU[koPOSITIONALscoreAREAtaxNONEsui1]RE[W+147.5];B[qc];W[dp];B[cq];W[cp];B[qq];W[dq];B[cc];W[pd];B[qd];W[pf];B[pc];W[jp];B[ip];W[io];B[in];W[ho];B[jn];W[jo];B[kp];W[ko];B[hn];W[oq];B[kn];W[lo];B[mo];W[mp];B[rp];W[di];B[dd];W[qo];B[ro];W[gn];B[gm];W[fn];B[gc];W[gk];B[hl];W[fm];B[bg];W[bi];B[hk];W[hj];B[fj];W[gj];B[ij];W[ii];B[jj];W[ji];B[kj];W[ki];B[lj];W[cf];B[bf];W[ce];B[bd];W[cg];B[be];W[nc];B[ob];W[ff];B[gl];W[fl];B[bh];W[ch];B[qe];W[pr];B[kc];W[le];B[oc];W[qm];B[qr];W[rn];B[so];W[pi];B[sn];W[jd];B[rg];W[fd];B[ic];W[id];B[lh];W[li];B[ai];W[aj];B[jc];W[mj];B[mk];W[kd];B[ps];W[os];B[ni];W[mi];B[lc];W[qs];B[rr];W[ne];B[od];W[nk];B[ml];W[qh];B[qf];W[rk];B[rs];W[fc];B[nd];W[lm];B[kl];W[of];B[ok];W[nl];B[mm];W[on];B[rh];W[ri];B[ol];W[nm];B[om];W[no];B[mn];W[nn];B[pn];W[pp];B[op];W[pq];B[hd];W[he];B[gd];W[ge];B[gb];W[db];B[ah];W[bj];B[oo];W[rm];B[po];W[np];B[nq];W[dc];B[pm];W[qp];B[cb];W[cd];B[sq];W[fb];B[nr];W[qn];B[lr];W[kq];B[si];W[sj];B[kr];W[bb];B[bc];W[md];B[lq];W[lp];B[mq];W[jr];B[iq];W[mc];B[ir];W[jq];B[mb];W[nb];B[na];W[ga];B[js];W[gr];B[ha];W[lb];B[ma];W[fa];B[ib];W[ca];B[ps];W[la];B[oa];W[or];B[ba];W[aa];B[ln];W[ac];B[ad];W[ba];B[af];W[qg];B[rf];W[sh];B[ab];W[da];B[gp];W[gq];B[em];W[sm];B[en];W[pe];B[hp];W[go];B[eo];W[ep];B[fo];W[fp];B[el];W[oj];B[pk];W[ac];B[oi];W[ld];B[pj];W[nj];B[mh];W[sg];B[sf];W[si];B[ih];W[oe];B[gi];W[fk];B[ek];W[qj];B[hh];W[ks];B[ls];W[ej];B[fi];W[oh];B[nh];W[pl];B[ql];W[ab];B[jh];W[qk];B[kh];W[pl];B[qs];W[rl];B[];W[ng];B[];W[ol];B[];W[bq];B[];W[dn];B[];W[do];B[];W[mg];B[hb];W[cr];B[];W[ec];B[];W[dm];B[];W[ns];B[];W[ei];B[];W[fh];B[];W[hg];B[];W[ig];B[];W[kg];B[lk];W[gh];B[];W[dk];B[];W[hi];B[];W[mr];B[];W[is];B[ms];W[hr];B[];W[dl];B[];W[hf];B[ka];W[de];B[];W[hs];B[];W[fg];B[kb];W[ed];B[];W[eh];B[];W[ci];B[];W[qi];B[lb];W[ie];B[];W[nf];B[km];W[me];B[];W[fq];B[ll];W[gg];B[];W[br];B[];W[cq];B[];W[dj];B[];W[as];B[];W[bs];B[];W[fs];B[];W[gs];B[];W[ks];B[];W[js];B[];W[mr];B[];W[nr];B[];W[lg];B[];W[jg];B[];W[])\n",
       "\">Link to game</a>"
      ],
      "text/plain": [
       "<IPython.core.display.HTML object>"
      ]
     },
     "metadata": {},
     "output_type": "display_data"
    },
    {
     "data": {
      "text/html": [
       "<a href=\"https://humancompatibleai.github.io/sgf-viewer/#sgf=(;FF[4]GM[1]SZ[19]PB[b60-s7702m-v100000]PW[230520-s111218432-v600]BR[algo=MCTS,v=100000,rsym=1]WR[algo=AMCTS,v=600,rsym=1,opp_v=1,opp_rsym=1]HA[0]DT[20230530-022725~20230530-151141]KM[6.5]RU[koPOSITIONALscoreAREAtaxNONEsui1]RE[B+140.5];B[pd];W[qc];B[qd];W[cq];B[pc];W[cc];B[pp];W[qq];B[pq];W[cg];B[qp];W[cn];B[pj];W[pk];B[qj];W[nk];B[ok];W[nj];B[nl];W[ml];B[oj];W[ni];B[do];W[fq];B[mm];W[ll];B[nm];W[ri];B[dq];W[dr];B[oh];W[nh];B[gp];W[cp];B[og];W[gq];B[ip];W[of];B[ng];W[mg];B[mf];W[lg];B[lf];W[kg];B[kf];W[jg];B[id];W[je];B[jf];W[hf];B[if];W[ph];B[oi];W[ir];B[gd];W[fc];B[gc];W[fb];B[ig];W[ih];B[hh];W[ii];B[jq];W[jr];B[gb];W[cj];B[lq];W[kr];B[dn];W[rd];B[rc];W[pg];B[re];W[co];B[dd];W[cd];B[gl];W[hm];B[hl];W[ik];B[il];W[jl];B[jm];W[kl];B[de];W[ce];B[dc];W[db];B[cb];W[bb];B[hq];W[hr];B[dm];W[lr];B[mq];W[ga];B[eb];W[ca];B[ha];W[fa];B[fd];W[ea];B[ec];W[mr];B[da];W[ea];B[fp];W[eq];B[or];W[cm];B[dg];W[cf];B[dk];W[ck];B[dh];W[dp];B[ko];W[cl];B[dl];W[ch];B[mk];W[lj];B[hk];W[jn];B[km];W[kn];B[lm];W[ij];B[ei];W[nr];B[nq];W[fl];B[hi];W[gi];B[dj];W[gh];B[hj];W[gm];B[kq];W[ci];B[df];W[ie];B[ns];W[ln];B[fa];W[da];B[ms];W[rj];B[rk];W[rl];B[qk];W[sk];B[mh];W[mi];B[kk];W[kj];B[ls];W[ql];B[sj];W[si];B[nf];W[oe];B[qi];W[ke];B[ks];W[pi];B[js];W[qh];B[rg];W[om];B[ol];W[pn];B[iq];W[gj];B[is];W[hs];B[lk];W[jk];B[os];W[gr];B[ep];W[ne];B[sl];W[sm];B[rh];W[pf];B[di];W[sj];B[pl];W[nn];B[mn];W[mo];B[he];W[gg];B[no];W[on];B[fk];W[mp];B[qf];W[kc];B[lc];W[me];B[hg];W[gf];B[nd];W[gk];B[fm];W[el];B[em];W[ek];B[jo];W[fj];B[qm];W[sl];B[md];W[in];B[le];W[kd];B[ld];W[od];B[ff];W[oc];B[eo];W[mb];B[qb];W[qn];B[ob];W[rm];B[rq];W[nc];B[lb];W[kb];B[ma];W[na];B[ej];W[fk];B[hn];W[gn];B[lo];W[ho];B[ro];W[pm];B[im];W[np];B[oo];W[op];B[po];W[ka];B[oa];W[nb];B[oq];W[lp];B[la];W[kp];B[fn];W[io];B[jp];W[mo];B[hd];W[mp];B[lp];W[np];B[ja];W[mc];B[op];W[];B[sn];W[];B[sd];W[cr];B[fh];W[];B[jc];W[bc];B[so];W[lh];B[sh];W[];B[pe];W[jh];B[rn];W[];B[qm];W[];B[qg];W[];B[oc];W[];B[qo];W[];B[qr];W[];B[jb];W[];B[pm];W[];B[jd];W[];B[pf];W[];B[se];W[];B[ia];W[];B[rb];W[mj];B[ad];W[go];B[fe];W[bd];B[ka];W[ae];B[ed];W[ac];B[bf];W[af];B[fr];W[hp];B[eh];W[fb];B[fc];W[];B[])\n",
       "\">Link to game</a>"
      ],
      "text/plain": [
       "<IPython.core.display.HTML object>"
      ]
     },
     "metadata": {},
     "output_type": "display_data"
    },
    {
     "data": {
      "text/html": [
       "<a href=\"https://humancompatibleai.github.io/sgf-viewer/#sgf=(;FF[4]GM[1]SZ[19]PB[230520-s111218432-v600]PW[b60-s7702m-v100000]BR[algo=AMCTS,v=600,rsym=1,opp_v=1,opp_rsym=1]WR[algo=MCTS,v=100000,rsym=1]HA[0]DT[20230530-022725~20230530-161846]KM[6.5]RU[koPOSITIONALscoreAREAtaxNONEsui1]RE[W+139.5];B[qc];W[dp];B[qq];W[dd];B[cc];W[dc];B[qk];W[cd];B[cq];W[dq];B[nq];W[cp];B[pp];W[pd];B[qd];W[pf];B[qe];W[nf];B[pc];W[cj];B[dj];W[di];B[fj];W[ej];B[fi];W[dk];B[fk];W[ij];B[dh];W[eh];B[dg];W[fh];B[gh];W[gg];B[hh];W[hg];B[ih];W[ei];B[hj];W[jd];B[dl];W[jf];B[jj];W[mc];B[nb];W[el];B[fl];W[em];B[en];W[fm];B[gm];W[gn];B[hm];W[hn];B[im];W[ip];B[mb];W[kq];B[pe];W[kc];B[io];W[in];B[jm];W[jn];B[lr];W[ln];B[kr];W[jr];B[lb];W[kb];B[ka];W[ja];B[js];W[ir];B[qg];W[pk];B[qm];W[qj];B[rk];W[ph];B[ke];W[lc];B[la];W[ib];B[pg];W[pm];B[qo];W[nc];B[oc];W[lq];B[mq];W[ni];B[kf];W[jg];B[jh];W[lh];B[mh];W[mi];B[qh];W[og];B[rj];W[pn];B[qn];W[kh];B[ki];W[pi];B[qi];W[km];B[jb];W[jc];B[kl];W[ll];B[kk];W[mo];B[je];W[li];B[lo];W[mp];B[jo];W[oo];B[ko];W[kn];B[mn];W[op];B[oq];W[lk];B[mm];W[lp];B[kj];W[ek];B[qf];W[ne];B[ql];W[pj];B[bl];W[mr];B[bd];W[bc];B[ms];W[nr];B[bi];W[bj];B[ns];W[ma];B[na];W[ob];B[oa];W[is];B[ho];W[or];B[pr];W[lj];B[os];W[of];B[dm];W[fn];B[fo];W[dn];B[mg];W[od];B[eo];W[ks];B[oj];W[np];B[hf];W[ig];B[oi];W[pl];B[nj];W[oe];B[nh];W[js];B[cm];W[cn];B[bn];W[bo];B[bk];W[ck];B[aj];W[ci];B[ml];W[ls];B[cl];W[bh];B[am];W[ak];B[al];W[mr];B[ai];W[ah];B[eg];W[nr];B[ak];W[ch];B[ag];W[lr];B[bg];W[kg];B[or];W[po];B[gf];W[ff];B[fe];W[ee];B[fd];W[ie];B[id];W[bp];B[he];W[gd];B[if];W[ef];B[cg];W[fg];B[df];W[fc];B[ge];W[ed];B[eb];W[lf];B[fb];W[gb];B[gc];W[hc];B[bb];W[cb];B[ac];W[cc];B[be];W[ce];B[ec];W[ba];B[ab];W[fa];B[gc];W[ik];B[il];W[fc];B[do];W[co];B[db];W[ca];B[ad];W[aa];B[cf];W[af];B[dr];W[bq];B[go];W[hp];B[gp];W[gq];B[mj];W[ep];B[mk];W[ok];B[lg];W[nl];B[bf];W[er];B[gc];W[rp];B[qp];W[fc];B[da];W[ea];B[hk];W[ds];B[fp];W[nm];B[];W[hq];B[];W[nd];B[];W[es];B[];W[fq];B[];W[nk];B[qr];W[rq];B[jk];W[hr];B[sq];W[jb];B[rr];W[da];B[sp];W[cr];B[];W[rb];B[pb];W[mf];B[];W[ng];B[];W[kd];B[];W[ic];B[];W[hd];B[];W[ae];B[];W[lm];B[];W[ga];B[];W[aq];B[];W[le];B[];W[de];B[];W[hb];B[gl];W[kp];B[];W[so];B[gj];W[nn];B[ro];W[ec];B[];W[ji];B[ii];W[ie];B[];W[sn];B[];W[sl];B[ra];W[sm];B[];W[rc];B[];W[qa];B[qb];W[if];B[];W[sa];B[pa];W[rn];B[];W[rh];B[ri];W[oh];B[];W[ra];B[];W[sh];B[];W[si];B[sj];W[sb];B[rd];W[rm];B[];W[sd];B[rg];W[se];B[];W[sc];B[re];W[rl];B[];W[hs];B[];W[br];B[];W[jp];B[];W[sf];B[];W[sg];B[];W[ap];B[];W[rf];B[];W[ae];B[hi];W[af];B[sk];W[an];B[];W[bm];B[];W[])\n",
       "\">Link to game</a>"
      ],
      "text/plain": [
       "<IPython.core.display.HTML object>"
      ]
     },
     "metadata": {},
     "output_type": "display_data"
    }
   ],
   "source": [
    "adv = \"230520-s111218432-v600\"\n",
    "opp = \"b60-s7702m-v100000\"\n",
    "sub_df = df.query(\n",
    "    \"|\".join(\n",
    "        [\n",
    "            \"(b_name == @opp and w_name == @adv)\",\n",
    "            \"(b_name == @adv and w_name == @opp)\",\n",
    "        ]\n",
    "    )\n",
    ")\n",
    "\n",
    "print(\"Winning games\")\n",
    "for row in list(sub_df.query(\"win_name == @adv\").itertuples())[:5]:\n",
    "    display_link(game_info.get_viz_link(row.sgf_path, row.sgf_line))\n",
    "\n",
    "print(\"Losing games\")\n",
    "for row in list(sub_df.query(\"win_name == @opp\").itertuples())[:5]:\n",
    "    display_link(game_info.get_viz_link(row.sgf_path, row.sgf_line))"
   ]
  }
 ],
 "metadata": {
  "kernelspec": {
   "display_name": "venv",
   "language": "python",
   "name": "python3"
  },
  "language_info": {
   "codemirror_mode": {
    "name": "ipython",
    "version": 3
   },
   "file_extension": ".py",
   "mimetype": "text/x-python",
   "name": "python",
   "nbconvert_exporter": "python",
   "pygments_lexer": "ipython3",
   "version": "3.10.6"
  },
  "orig_nbformat": 4
 },
 "nbformat": 4,
 "nbformat_minor": 2
}
