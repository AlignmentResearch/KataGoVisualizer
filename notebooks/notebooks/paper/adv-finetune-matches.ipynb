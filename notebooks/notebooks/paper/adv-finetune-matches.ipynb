{
 "cells": [
  {
   "attachments": {},
   "cell_type": "markdown",
   "metadata": {},
   "source": [
    "Summarizes results of matches between finetuned adversaries and KataGo."
   ]
  },
  {
   "attachments": {},
   "cell_type": "markdown",
   "metadata": {},
   "source": [
    "### Load libraries"
   ]
  },
  {
   "cell_type": "code",
   "execution_count": 1,
   "metadata": {},
   "outputs": [],
   "source": [
    "%load_ext autoreload\n",
    "%autoreload 2"
   ]
  },
  {
   "cell_type": "code",
   "execution_count": 2,
   "metadata": {},
   "outputs": [],
   "source": [
    "import matplotlib.pyplot as plt\n",
    "import numpy as np\n",
    "import pandas as pd\n",
    "import utils\n",
    "from IPython.core.display import HTML\n",
    "from IPython.display import display\n",
    "from sgf_parser import game_info\n",
    "from statsmodels.stats.proportion import proportion_confint\n",
    "\n",
    "plt.style.use(\n",
    "    [\"tableau-colorblind10\", utils.get_style(\"default\"), utils.get_style(\"1-col\")]\n",
    ")"
   ]
  },
  {
   "attachments": {},
   "cell_type": "markdown",
   "metadata": {},
   "source": [
    "### Parse data"
   ]
  },
  {
   "cell_type": "code",
   "execution_count": 3,
   "metadata": {},
   "outputs": [
    {
     "data": {
      "text/plain": [
       "b60-s7701m-v1600          1400\n",
       "230520-s97528320-v600     1200\n",
       "230520-s111218432-v600    1138\n",
       "cp505-v1600               1000\n",
       "230518-s34275840-v600      500\n",
       "230520-s22809344-v600      500\n",
       "230520-s75567360-v600      500\n",
       "b60-s7701m-v4096           400\n",
       "cyclic-adv-v600            400\n",
       "b18-s5832m-v4096           400\n",
       "b60-s7702m-v4096           400\n",
       "cp505-v4096                311\n",
       "b18-s5832m-v1600           300\n",
       "b60-s7702m-v100000          27\n",
       "dtype: int64"
      ]
     },
     "execution_count": 3,
     "metadata": {},
     "output_type": "execute_result"
    }
   ],
   "source": [
    "df = utils.parse_sgfs(\n",
    "    [\n",
    "        \"/nas/ucb/k8/go-attack/match/ttseng-eval-ft-vs-b60-20230524-160144\",\n",
    "        \"/nas/ucb/k8/go-attack/match/ttseng-eval-ft-vs-b60-v1124-20230524-161516\",\n",
    "        \"/nas/ucb/k8/go-attack/match/ttseng-eval-ft-vs-b60-20230526-140744/\",\n",
    "        \"/nas/ucb/k8/go-attack/match/ttseng-eval-ft-vs-b60-v4096-20230526-140926\",\n",
    "        \"/nas/ucb/k8/go-attack/match/ttseng-eval-b60ft-vs-cp505-20230526-152339\",\n",
    "        \"/nas/ucb/k8/go-attack/match/ttseng-cyclic-vs-b60-s7702m-20230526-152118\",\n",
    "    ]\n",
    "    + [\n",
    "        \"/nas/ucb/k8/go-attack/match/tony-ft-vs-b18-20230529-195442\",\n",
    "        \"/nas/ucb/k8/go-attack/match/tony-ft-vs-b60-20230529-190938\",\n",
    "        \"/nas/ucb/k8/go-attack/match/tony-ft-vs-b60-v1e5-20230529-192608\",\n",
    "        \"/nas/ucb/k8/go-attack/match/tony-ft-vs-cp505-20230529-191349\",\n",
    "    ],\n",
    "    no_victim_okay=True,\n",
    ")\n",
    "pd.concat([df.b_name, df.w_name]).value_counts()\n"
   ]
  },
  {
   "attachments": {},
   "cell_type": "markdown",
   "metadata": {},
   "source": [
    "### Analyze data"
   ]
  },
  {
   "cell_type": "code",
   "execution_count": 4,
   "metadata": {},
   "outputs": [
    {
     "name": "stdout",
     "output_type": "stream",
     "text": [
      "Adversary: cyclic-adv-v600\n",
      "cyclic-adv-v600 vs b60-s7701m-v1600: 0/400 (0.00%)\n",
      "\n",
      "Adversary: 230518-s34275840-v600\n",
      "230518-s34275840-v600 vs b18-s5832m-v1600: 20/100 (20.00%)\n",
      "230518-s34275840-v600 vs b60-s7701m-v1600: 59/200 (29.50%)\n",
      "230518-s34275840-v600 vs cp505-v1600: 130/200 (65.00%)\n",
      "\n",
      "Adversary: 230520-s22809344-v600\n",
      "230520-s22809344-v600 vs b18-s5832m-v1600: 13/100 (13.00%)\n",
      "230520-s22809344-v600 vs b60-s7701m-v1600: 68/200 (34.00%)\n",
      "230520-s22809344-v600 vs cp505-v1600: 107/200 (53.50%)\n",
      "\n",
      "Adversary: 230520-s75567360-v600\n",
      "230520-s75567360-v600 vs b18-s5832m-v1600: 15/100 (15.00%)\n",
      "230520-s75567360-v600 vs b60-s7701m-v1600: 71/200 (35.50%)\n",
      "230520-s75567360-v600 vs cp505-v1600: 102/200 (51.00%)\n",
      "\n",
      "Adversary: 230520-s97528320-v600\n",
      "230520-s97528320-v600 vs b60-s7701m-v1600: 187/400 (46.75%)\n",
      "230520-s97528320-v600 vs b60-s7701m-v4096: 131/400 (32.75%)\n",
      "230520-s97528320-v600 vs cp505-v1600: 268/400 (67.00%)\n",
      "\n",
      "Adversary: 230520-s111218432-v600\n",
      "230520-s111218432-v600 vs b18-s5832m-v4096: 51/400 (12.75%)\n",
      "230520-s111218432-v600 vs b60-s7702m-v100000: 5/27 (18.52%)\n",
      "230520-s111218432-v600 vs b60-s7702m-v4096: 188/400 (47.00%)\n",
      "230520-s111218432-v600 vs cp505-v4096: 179/311 (57.56%)\n",
      "\n"
     ]
    }
   ],
   "source": [
    "for adv in [\n",
    "    \"cyclic-adv-v600\",\n",
    "    \"230518-s34275840-v600\",\n",
    "    \"230520-s22809344-v600\",\n",
    "    \"230520-s75567360-v600\",\n",
    "    \"230520-s97528320-v600\",\n",
    "    \"230520-s111218432-v600\",\n",
    "]:\n",
    "    sub_df = df.query(\"b_name == @adv or w_name == @adv\")\n",
    "\n",
    "    print(f\"Adversary: {adv}\")\n",
    "    for opp in sorted(pd.concat([sub_df.b_name, sub_df.w_name]).unique()):\n",
    "        if opp == adv:\n",
    "            continue\n",
    "\n",
    "        opp_df = sub_df.query(\n",
    "            \"|\".join(\n",
    "                [\n",
    "                    \"(b_name == @opp and w_name == @adv)\",\n",
    "                    \"(b_name == @adv and w_name == @opp)\",\n",
    "                ]\n",
    "            )\n",
    "        )\n",
    "        tot_games = len(opp_df)\n",
    "        if tot_games == 0:\n",
    "            continue\n",
    "\n",
    "        n_games_won = (opp_df.win_name == adv).sum()\n",
    "        print(\n",
    "            f\"{adv} vs {opp}: {n_games_won}/{tot_games} ({n_games_won/tot_games:.2%})\"\n",
    "        )\n",
    "    print()"
   ]
  },
  {
   "attachments": {},
   "cell_type": "markdown",
   "metadata": {},
   "source": [
    "### Visualize some games"
   ]
  },
  {
   "cell_type": "code",
   "execution_count": 5,
   "metadata": {},
   "outputs": [],
   "source": [
    "from IPython.core.display import HTML\n",
    "from IPython.display import display\n",
    "\n",
    "def display_link(link: str, text: str = \"Link to game\"):\n",
    "    display(HTML(f'<a href=\"{link}\">{text}</a>'))"
   ]
  },
  {
   "cell_type": "code",
   "execution_count": 6,
   "metadata": {},
   "outputs": [
    {
     "name": "stdout",
     "output_type": "stream",
     "text": [
      "Winning games\n"
     ]
    },
    {
     "data": {
      "text/html": [
       "<a href=\"https://humancompatibleai.github.io/sgf-viewer/#sgf=(;FF[4]GM[1]SZ[19]PB[230520-s111218432-v600]PW[b60-s7702m-v100000]BR[algo=AMCTS,v=600,rsym=1,opp_v=1,opp_rsym=1]WR[algo=MCTS,v=100000,rsym=1]HA[0]DT[20230530-023012~20230530-144613]KM[6.5]RU[koPOSITIONALscoreAREAtaxNONEsui1]RE[B+54.5];B[qc];W[dp];B[cq];W[cp];B[cc];W[dq];B[qq];W[dj];B[dk];W[ej];B[fk];W[ek];B[fl];W[el];B[fj];W[fi];B[dm];W[fm];B[gi];W[gh];B[hi];W[hh];B[ii];W[fh];B[ci];W[cj];B[gm];W[gn];B[hm];W[hn];B[im];W[in];B[jm];W[ce];B[dc];W[cg];B[pd];W[fc];B[eb];W[kp];B[fb];W[nq];B[pr];W[pp];B[qp];W[lq];B[mc];W[qi];B[nr];W[oq];B[or];W[pg];B[rn];W[lc];B[lb];W[mr];B[di];W[fe];B[be];W[bf];B[bd];W[qe];B[hg];W[ih];B[ji];W[ed];B[rd];W[ld];B[fg];W[hc];B[hb];W[ic];B[re];W[md];B[nc];W[jh];B[ki];W[lg];B[kb];W[ql];B[mh];W[kn];B[km];W[ln];B[eh];W[ei];B[kg];W[kh];B[rh];W[lh];B[mn];W[lm];B[ll];W[qn];B[qo];W[pn];B[qf];W[ml];B[lk];W[rm];B[so];W[mk];B[ko];W[jn];B[lj];W[mj];B[rk];W[qk];B[ri];W[rj];B[lf];W[nf];B[nd];W[ne];B[bj];W[bh];B[bi];W[de];B[sj];W[qj];B[bl];W[cl];B[pe];W[qg];B[rg];W[pf];B[cm];W[bn];B[ck];W[dl];B[rf];W[ib];B[ga];W[gc];B[ja];W[oe];B[nl];W[po];B[ms];W[ls];B[ns];W[od];B[dr];W[br];B[oc];W[sm];B[iq];W[cr];B[hq];W[li];B[lo];W[jr];B[jo];W[sn];B[ro];W[kc];B[en];W[fn];B[fo];W[gp];B[go];W[fp];B[eo];W[em];B[jb];W[gb];B[gg];W[ha];B[bm];W[cn];B[ig];W[ec];B[lr];W[kr];B[db];W[fa];B[mg];W[bb];B[ba];W[ae];B[bc];W[sk];B[nj];W[si];B[nk];W[mm];B[nm];W[bk];B[dk];W[ca];B[ab];W[ad];B[cb];W[jc];B[ak];W[nn];B[mo];W[dh];B[eg];W[jg];B[kf];W[sh];B[jf];W[gj];B[gk];W[kj];B[jk];W[hk];B[gl];W[ni];B[oi];W[hj];B[ij];W[nh];B[ng];W[il];B[ik];W[mi];B[mf];W[oh];B[pi];W[sg];B[ph];W[qh];B[og];W[rr];B[oj];W[kl];B[kk];W[pc];B[pb];W[al];B[am];W[aj];B[ai];W[an];B[io];W[qr];B[ho];W[pq];B[me];W[gr];B[of];W[ir];B[ep];W[eq];B[sf];W[sj];B[mp];W[mq];B[hr];W[hs];B[he];W[ge];B[ie];W[om];B[no];W[ol];B[ck];W[ah];B[on];W[df];B[gq];W[fq];B[jp];W[pk];B[do];W[co];B[oo];W[hd];B[ef];W[ea];B[da];W[ga];B[lp];W[gf];B[hp];W[kq];B[hf];W[kd];B[id];W[jd];B[ch];W[dg];B[ok];W[ee];B[dn];W[ia];B[ac];W[af];B[np];W[op];B[ke];W[jq];B[pj];W[ff];B[je];W[le];B[dd];W[cd];B[];W[rq];B[];W[ps];B[pc];W[is];B[];W[bg];B[];W[pl];B[];W[fr];B[];W[pm];B[];W[lr];B[];W[qs];B[];W[gs];B[];W[sl];B[jl];W[os];B[qd];W[or];B[ne];W[ds];B[];W[cs];B[mb];W[sp];B[];W[er];B[];W[bq];B[];W[sq];B[];W[])\n",
       "\">Link to game</a>"
      ],
      "text/plain": [
       "<IPython.core.display.HTML object>"
      ]
     },
     "metadata": {},
     "output_type": "display_data"
    },
    {
     "data": {
      "text/html": [
       "<a href=\"https://humancompatibleai.github.io/sgf-viewer/#sgf=(;FF[4]GM[1]SZ[19]PB[230520-s111218432-v600]PW[b60-s7702m-v100000]BR[algo=AMCTS,v=600,rsym=1,opp_v=1,opp_rsym=1]WR[algo=MCTS,v=100000,rsym=1]HA[0]DT[20230530-022728~20230530-135440]KM[6.5]RU[koPOSITIONALscoreAREAtaxNONEsui1]RE[B+84.5];B[qc];W[dp];B[cq];W[cp];B[cc];W[dq];B[qq];W[pd];B[qd];W[pf];B[pc];W[dj];B[dk];W[ek];B[fk];W[el];B[fj];W[ej];B[di];W[ei];B[fi];W[fh];B[eg];W[eh];B[fl];W[ce];B[bd];W[cg];B[gh];W[gg];B[hh];W[ec];B[be];W[bf];B[db];W[hg];B[if];W[ig];B[ih];W[jg];B[eb];W[in];B[hm];W[fm];B[gm];W[jl];B[io];W[ho];B[im];W[ip];B[jo];W[jn];B[jm];W[ko];B[jh];W[km];B[kl];W[kh];B[go];W[jk];B[ij];W[fn];B[ki];W[gn];B[kk];W[pq];B[kp];W[jp];B[qp];W[op];B[ln];W[on];B[po];W[oo];B[pr];W[or];B[rr];W[lm];B[mm];W[ll];B[ml];W[lk];B[oq];W[nq];B[kj];W[gl];B[ik];W[hn];B[il];W[qm];B[mk];W[nc];B[ob];W[ro];B[rp];W[gc];B[rf];W[kn];B[fb];W[pj];B[ri];W[qi];B[rh];W[qg];B[lg];W[mi];B[qk];W[pk];B[mj];W[lj];B[rg];W[gi];B[gk];W[lc];B[nb];W[lh];B[mb];W[od];B[rl];W[jc];B[kb];W[rm];B[jf];W[kc];B[hb];W[ge];B[qj];W[qh];B[ni];W[hc];B[gb];W[dd];B[ib];W[mc];B[pp];W[ql];B[rj];W[oq];B[cj];W[li];B[qs];W[cd];B[bc];W[qe];B[re];W[lb];B[dh];W[fc];B[bj];W[bl];B[dl];W[af];B[eo];W[dm];B[dn];W[cl];B[jb];W[ma];B[ck];W[em];B[hq];W[pn];B[cm];W[bm];B[hp];W[er];B[fo];W[sl];B[cn];W[bn];B[kq];W[os];B[rk];W[so];B[sp];W[oc];B[pa];W[ae];B[lo];W[ks];B[jq];W[is];B[ir];W[js];B[gf];W[qf];B[ff];W[ad];B[mh];W[fg];B[io];W[ac];B[mg];W[dg];B[ef];W[bb];B[cb];W[ic];B[hf];W[kg];B[ci];W[kf];B[ke];W[lf];B[mf];W[le];B[ld];W[ba];B[kd];W[me];B[md];W[nj];B[nh];W[nf];B[nd];W[oh];B[ng];W[of];B[oi];W[gj];B[hk];W[mn];B[ne];W[lp];B[mo];W[no];B[nn];W[ji];B[jj];W[mp];B[mn];W[ps];B[qr];W[lq];B[en];W[gr];B[bh];W[pi];B[jo];W[ab];B[kr];W[lr];B[hr];W[hs];B[qo];W[sm];B[oj];W[ol];B[fq];W[fr];B[gq];W[ak];B[df];W[cf];B[bk];W[al];B[qn];W[og];B[rn];W[sn];B[ka];W[la];B[he];W[fe];B[id];W[hd];B[jd];W[om];B[sk];W[co];B[ok];W[nl];B[ee];W[ed];B[nk];W[ca];B[da];W[na];B[oa];W[ep];B[aj];W[ah];B[ai];W[ag];B[oe];W[fp];B[ch];W[eq];B[gp];W[pe];B[nm];W[dc];B[ls];W[gs];B[bg];W[de];B[do];W[jr];B[hi];W[bo];B[kf];W[cr];B[fh];W[bq];B[iq];W[ms];B[];W[mq];B[];W[pm];B[];W[gd];B[];W[ns];B[];W[ls];B[];W[dr];B[];W[br];B[];W[])\n",
       "\">Link to game</a>"
      ],
      "text/plain": [
       "<IPython.core.display.HTML object>"
      ]
     },
     "metadata": {},
     "output_type": "display_data"
    },
    {
     "data": {
      "text/html": [
       "<a href=\"https://humancompatibleai.github.io/sgf-viewer/#sgf=(;FF[4]GM[1]SZ[19]PB[230520-s111218432-v600]PW[b60-s7702m-v100000]BR[algo=AMCTS,v=600,rsym=1,opp_v=1,opp_rsym=1]WR[algo=MCTS,v=100000,rsym=1]HA[0]DT[20230530-022738~20230530-135812]KM[6.5]RU[koPOSITIONALscoreAREAtaxNONEsui1]RE[B+106.5];B[qc];W[dp];B[cq];W[cp];B[cc];W[dq];B[qq];W[dj];B[dk];W[ej];B[fk];W[ek];B[fl];W[el];B[fj];W[fi];B[di];W[ei];B[fm];W[jp];B[dn];W[em];B[pd];W[fn];B[gn];W[go];B[hn];W[ho];B[in];W[cf];B[dc];W[ed];B[ec];W[lp];B[kp];W[ko];B[kq];W[lq];B[gp];W[io];B[jn];W[jo];B[gi];W[oq];B[qn];W[po];B[qo];W[gh];B[hi];W[hh];B[ii];W[gd];B[lc];W[qh];B[fc];W[qk];B[pr];W[pq];B[qr];W[ef];B[eh];W[fh];B[rj];W[qj];B[lo];W[kn];B[jq];W[lr];B[km];W[lm];B[kl];W[ll];B[mk];W[lk];B[kk];W[lj];B[be];W[bf];B[rk];W[jj];B[ij];W[ql];B[kj];W[pn];B[mi];W[li];B[ri];W[pg];B[rl];W[qm];B[rm];W[nf];B[od];W[ld];B[mc];W[jd];B[or];W[nr];B[hg];W[jg];B[lh];W[ki];B[ji];W[md];B[nd];W[gm];B[hm];W[kc];B[ig];W[gj];B[gk];W[nc];B[nb];W[ih];B[kb];W[lb];B[mb];W[jb];B[hb];W[hl];B[gl];W[ik];B[jk];W[jm];B[im];W[gc];B[gb];W[me];B[bd];W[fd];B[la];W[ic];B[qf];W[qp];B[rp];W[pp];B[jf];W[jh];B[ro];W[pf];B[qe];W[rg];B[rf];W[ce];B[sg];W[ae];B[bc];W[ib];B[rh];W[qi];B[kg];W[ns];B[eo];W[fo];B[ep];W[cr];B[fp];W[af];B[jr];W[iq];B[ir];W[hq];B[ip];W[hp];B[hr];W[ad];B[gq];W[fr];B[gr];W[dr];B[ac];W[os];B[ci];W[ps];B[qs];W[hc];B[fg];W[en];B[gg];W[ha];B[fb];W[qg];B[mm];W[dd];B[mn];W[dm];B[bj];W[bk];B[ck];W[cl];B[bl];W[bm];B[ak];W[ga];B[fa];W[ia];B[cn];W[cm];B[bn];W[kh];B[am];W[ai];B[lg];W[do];B[cj];W[eg];B[dh];W[kf];B[je];W[oe];B[dl];W[ln];B[mo];W[rq];B[rr];W[rs];B[sr];W[sh];B[si];W[nq];B[mj];W[sq];B[sp];W[if];B[ml];W[ie];B[ke];W[kd];B[ip];W[bo];B[om];W[pm];B[bh];W[ka];B[ja];W[ba];B[dg];W[da];B[db];W[ea];B[ca];W[ka];B[lb];W[cb];B[ah];W[cd];B[ab];W[oj];B[bb];W[ca];B[df];W[nh];B[hf];W[he];B[ee];W[fe];B[ff];W[ol];B[lf];W[nl];B[nk];W[nm];B[ok];W[pk];B[ks];W[de];B[ef];W[kr];B[no];W[oo];B[nn];W[on];B[ls];W[ms];B[js];W[gs];B[hs];W[fs];B[eq];W[er];B[ni];W[oi];B[ao];W[ap];B[co];W[an];B[mp];W[ao];B[mq];W[mr];B[pe];W[ne];B[cg];W[mg];B[np];W[ja];B[gf];W[mh];B[mf];W[le];B[ng];W[og];B[bq];W[br];B[bi];W[ag];B[ss];W[bg];B[oh];W[ph];B[ko];W[ge];B[lj];W[op];B[ek];W[nj];B[oc];W[fq];B[il];W[aq];B[ki];W[ar];B[aj];W[bp];B[];W[])\n",
       "\">Link to game</a>"
      ],
      "text/plain": [
       "<IPython.core.display.HTML object>"
      ]
     },
     "metadata": {},
     "output_type": "display_data"
    },
    {
     "data": {
      "text/html": [
       "<a href=\"https://humancompatibleai.github.io/sgf-viewer/#sgf=(;FF[4]GM[1]SZ[19]PB[230520-s111218432-v600]PW[b60-s7702m-v100000]BR[algo=AMCTS,v=600,rsym=1,opp_v=1,opp_rsym=1]WR[algo=MCTS,v=100000,rsym=1]HA[0]DT[20230530-023012~20230530-133856]KM[6.5]RU[koPOSITIONALscoreAREAtaxNONEsui1]RE[B+110.5];B[qc];W[dp];B[cq];W[cp];B[qq];W[dq];B[cc];W[dj];B[dk];W[ej];B[fk];W[ek];B[fl];W[el];B[fj];W[fm];B[di];W[ei];B[gm];W[ce];B[dc];W[df];B[fi];W[fh];B[eg];W[eh];B[gh];W[gg];B[hh];W[hg];B[ih];W[fc];B[eb];W[ig];B[jf];W[jg];B[jh];W[kg];B[lg];W[kh];B[pd];W[fb];B[bd];W[lq];B[fa];W[gn];B[hm];W[hn];B[im];W[in];B[jm];W[ko];B[jo];W[jn];B[ki];W[oq];B[pq];W[op];B[qo];W[km];B[ln];W[kn];B[gb];W[be];B[kl];W[ll];B[kk];W[li];B[kj];W[qh];B[or];W[nr];B[pr];W[gi];B[gj];W[pn];B[qn];W[jc];B[ns];W[gl];B[hk];W[mr];B[ri];W[mc];B[nb];W[gc];B[hb];W[jl];B[ik];W[hc];B[ib];W[jb];B[ja];W[nc];B[ob];W[ic];B[qf];W[pm];B[qm];W[pk];B[rk];W[ng];B[pf];W[mk];B[bb];W[oh];B[mb];W[ji];B[ii];W[ne];B[lb];W[ec];B[ea];W[ql];B[rl];W[qi];B[rh];W[kc];B[mi];W[db];B[cb];W[lj];B[kb];W[dd];B[nk];W[qj];B[rj];W[ad];B[ac];W[ae];B[lo];W[po];B[kp];W[lm];B[mm];W[pp];B[qp];W[qg];B[rg];W[oe];B[ir];W[hr];B[od];W[nd];B[oc];W[pe];B[qe];W[ms];B[gf];W[os];B[hq];W[gr];B[ps];W[lk];B[bl];W[bk];B[ak];W[cd];B[bc];W[ns];B[cj];W[ck];B[bj];W[cl];B[cm];W[dl];B[dm];W[bm];B[al];W[qk];B[dh];W[em];B[bn];W[cn];B[am];W[bo];B[dn];W[co];B[bh];W[lc];B[en];W[dg];B[ff];W[of];B[ci];W[pg];B[kf];W[fn];B[fo];W[eo];B[go];W[bg];B[ho];W[jr];B[ml];W[mh];B[ni];W[cg];B[nh];W[nj];B[oi];W[mj];B[oj];W[iq];B[mg];W[cr];B[io];W[lh];B[ok];W[lp];B[mo];W[mn];B[jp];W[fe];B[nn];W[lf];B[mf];W[ge];B[hf];W[fg];B[ef];W[nf];B[le];W[do];B[bm];W[aj];B[ai];W[an];B[ao];W[hj];B[hi];W[da];B[ca];W[jj];B[jk];W[ka];B[la];W[me];B[lf];W[ap];B[if];W[fp];B[gq];W[fq];B[dk];W[jq];B[ee];W[ed];B[kq];W[kr];B[mp];W[mq];B[ol];W[he];B[ag];W[ie];B[ld];W[pi];B[np];W[gp];B[hp];W[jd];B[pl];W[nq];B[on];W[om];B[oo];W[af];B[nm];W[an];B[ah];W[ao];B[je];W[kd];B[de];W[md];B[ga];W[ip];B[ia];W[ch];B[eq];W[fr];B[pj];W[ke];B[hl];W[lr];B[rf];W[er];B[fh];W[ep];B[];W[bq];B[];W[is];B[];W[og];B[];W[bf];B[];W[gd];B[];W[js];B[];W[cq];B[];W[])\n",
       "\">Link to game</a>"
      ],
      "text/plain": [
       "<IPython.core.display.HTML object>"
      ]
     },
     "metadata": {},
     "output_type": "display_data"
    },
    {
     "data": {
      "text/html": [
       "<a href=\"https://humancompatibleai.github.io/sgf-viewer/#sgf=(;FF[4]GM[1]SZ[19]PB[b60-s7702m-v100000]PW[230520-s111218432-v600]BR[algo=MCTS,v=100000,rsym=1]WR[algo=AMCTS,v=600,rsym=1,opp_v=1,opp_rsym=1]HA[0]DT[20230530-022723~20230530-132604]KM[6.5]RU[koPOSITIONALscoreAREAtaxNONEsui1]RE[W+131.5];B[pd];W[qc];B[qd];W[cc];B[pc];W[cq];B[pp];W[qq];B[pq];W[cg];B[qp];W[cn];B[pj];W[qj];B[qk];W[oj];B[pk];W[oi];B[pi];W[ok];B[oh];W[nh];B[hc];W[gb];B[dp];W[dq];B[fp];W[pg];B[ng];W[mh];B[mg];W[lh];B[lg];W[kh];B[kg];W[ig];B[jg];W[ql];B[pl];W[ol];B[pm];W[hb];B[jh];W[pb];B[ob];W[ji];B[jc];W[ic];B[id];W[ib];B[kc];W[eq];B[ii];W[jj];B[fe];W[gc];B[hd];W[dd];B[jq];W[ep];B[ko];W[pn];B[om];W[pr];B[or];W[nm];B[nn];W[mm];B[mn];W[lm];B[dh];W[jo];B[kn];W[ch];B[hq];W[km];B[jn];W[cj];B[dj];W[ci];B[fh];W[in];B[jm];W[jl];B[il];W[jk];B[im];W[fd];B[ee];W[de];B[df];W[cf];B[dn];W[cm];B[ed];W[ec];B[fo];W[do];B[eo];W[co];B[dk];W[dg];B[gd];W[fc];B[fg];W[fr];B[gr];W[dm];B[fm];W[ef];B[ff];W[jb];B[kb];W[ck];B[fq];W[es];B[gj];W[gk];B[hk];W[qh];B[qi];W[hi];B[ij];W[ka];B[la];W[hj];B[ik];W[qm];B[ph];W[fk];B[el];W[rg];B[rj];W[ja];B[lb];W[ro];B[di];W[rl];B[rp];W[en];B[fn];W[sp];B[rq];W[hm];B[eg];W[si];B[rh];W[qg];B[sh];W[sj];B[ln];W[sg];B[ri];W[sk];B[gs];W[qo];B[rk];W[sl];B[dl];W[cl];B[em];W[re];B[rc];W[io];B[fs];W[er];B[og];W[nf];B[df];W[of];B[dn];W[oo];B[nl];W[mk];B[ef];W[jf];B[ni];W[mj];B[kj];W[lk];B[kk];W[lj];B[kl];W[ki];B[en];W[no];B[po];W[qn];B[on];W[kf];B[mf];W[kp];B[lp];W[kr];B[lr];W[mq];B[ne];W[oe];B[ke];W[kq];B[jr];W[me];B[pe];W[le];B[je];W[mo];B[lq];W[ks];B[qb];W[if];B[hf];W[hh];B[iq];W[lf];B[lo];W[mr];B[gh];W[mp];B[pf];W[nd];B[ih];W[hg];B[oq];W[ls];B[nj];W[nk];B[od];W[ne];B[rf];W[qf];B[sq];W[hl];B[nc];W[mc];B[mb];W[qj];B[ld];W[ns];B[os];W[js];B[md];W[sd];B[fj];W[sc];B[sb];W[gi];B[fi];W[so];B[is];W[ek];B[rd];W[se];B[ho];W[ej];B[he];W[hn];B[qe];W[sf];B[go];W[gg];B[ip];W[gf];B[ei];W[ge];B[ie];W[nr];B[gl];W[np];B[fl];W[hk];B[op];W[cp];B[gm];W[jp];B[gn];W[og];B[nq];W[];B[pa];W[ir];B[hr];W[ik];B[qr];W[ml];B[bb];W[ab];B[kd];W[bc];B[ps];W[ba];B[];W[cb];B[da];W[ea];B[rb];W[db];B[lc];W[eb];B[oc];W[];B[qa];W[];B[])\n",
       "\">Link to game</a>"
      ],
      "text/plain": [
       "<IPython.core.display.HTML object>"
      ]
     },
     "metadata": {},
     "output_type": "display_data"
    },
    {
     "name": "stdout",
     "output_type": "stream",
     "text": [
      "Losing games\n"
     ]
    },
    {
     "data": {
      "text/html": [
       "<a href=\"https://humancompatibleai.github.io/sgf-viewer/#sgf=(;FF[4]GM[1]SZ[19]PB[b60-s7702m-v100000]PW[230520-s111218432-v600]BR[algo=MCTS,v=100000,rsym=1]WR[algo=AMCTS,v=600,rsym=1,opp_v=1,opp_rsym=1]HA[0]DT[20230530-022725~20230530-161838]KM[6.5]RU[koPOSITIONALscoreAREAtaxNONEsui1]RE[B+160.5];B[pd];W[qc];B[qd];W[cq];B[pc];W[cc];B[pp];W[qq];B[pq];W[cm];B[qp];W[dd];B[pj];W[qj];B[qi];W[oj];B[pi];W[ok];B[pk];W[oi];B[ol];W[nl];B[ip];W[fq];B[om];W[pm];B[nm];W[qh];B[ph];W[ml];B[mm];W[ll];B[lm];W[ln];B[kl];W[jm];B[km];W[dp];B[jd];W[pr];B[or];W[jq];B[iq];W[oh];B[jo];W[pf];B[og];W[ng];B[nf];W[mg];B[mf];W[lg];B[lf];W[kg];B[gp];W[ke];B[kf];W[pb];B[ob];W[je];B[jf];W[kk];B[ie];W[jk];B[jl];W[cf];B[hc];W[gr];B[hr];W[kc];B[fc];W[eb];B[ik];W[ij];B[ec];W[db];B[ib];W[hl];B[il];W[cj];B[hj];W[ii];B[fl];W[im];B[hk];W[on];B[pg];W[jg];B[dm];W[dl];B[em];W[dn];B[dg];W[cl];B[fp];W[gk];B[gl];W[ep];B[eq];W[hm];B[eo];W[er];B[do];W[co];B[en];W[gj];B[hi];W[ih];B[cn];W[bn];B[bo];W[cp];B[gq];W[dq];B[cg];W[bf];B[gg];W[bg];B[di];W[ci];B[ej];W[mp];B[qr];W[hf];B[fb];W[fa];B[bm];W[an];B[ao];W[dn];B[nk];W[mk];B[cn];W[ri];B[am];W[bq];B[mj];W[nj];B[rh];W[si];B[qk];W[qg];B[if];W[bk];B[dc];W[rg];B[re];W[cb];B[ee];W[de];B[ch];W[rl];B[rk];W[bh];B[gs];W[bn];B[an];W[fr];B[lj];W[lk];B[jj];W[kj];B[hh];W[ql];B[ig];W[ji];B[ed];W[aq];B[ga];W[lq];B[qn];W[bl];B[dj];W[gi];B[df];W[id];B[al];W[fg];B[nh];W[ni];B[bj];W[ak];B[ce];W[cd];B[mh];W[mi];B[bi];W[ck];B[dk];W[ai];B[el];W[aj];B[ea];W[ne];B[hs];W[da];B[fs];W[es];B[fa];W[hd];B[qf];W[he];B[oe];W[nd];B[me];W[md];B[nc];W[pe];B[pa];W[rf];B[qe];W[rj];B[rm];W[le];B[gh];W[sk];B[pn];W[fh];B[dn];W[sf];B[sh];W[qb];B[bn];W[sg];B[bp];W[sd];B[se];W[rd];B[mc];W[rc];B[rb];W[qa];B[sb];W[ld];B[ap];W[od];B[oc];W[lb];B[ic];W[mb];B[nb];W[lc];B[ma];W[la];B[of];W[oa];B[na];W[pe];B[pf];W[gf];B[nn];W[mn];B[kn];W[qm];B[rn];W[oo];B[jc];W[ko];B[no];W[jn];B[kp];W[lo];B[np];W[op];B[oq];W[nq];B[nr];W[lp];B[pa];W[mo];B[mq];W[lh];B[rq];W[];B[ef];W[];B[ps];W[];B[hp];W[];B[jr];W[];B[kq];W[];B[in];W[];B[kb];W[];B[gm];W[];B[eh];W[];B[po];W[];B[sl];W[];B[gd];W[bi];B[ka];W[];B[pl];W[];B[hn];W[];B[lr];W[];B[sa];W[be];B[jp];W[];B[oa];W[li];B[sm];W[];B[kd];W[];B[dh];W[];B[ff];W[];B[hg];W[];B[ge];W[];B[hq];W[jh];B[kc];W[];B[lc];W[dr];B[hd];W[];B[ko];W[];B[eg];W[];B[rl];W[];B[fi];W[];B[ei];W[];B[ho];W[];B[fj];W[];B[qq];W[];B[fk];W[];B[os];W[];B[br];W[];B[cr];W[ar];B[rh];W[sc];B[sj];W[ro];B[rp];W[ce];B[so];W[ra];B[sb];W[lj];B[cs];W[bs];B[sn];W[ds];B[rb];W[];B[sk];W[];B[sh];W[];B[sa];W[];B[])\n",
       "\">Link to game</a>"
      ],
      "text/plain": [
       "<IPython.core.display.HTML object>"
      ]
     },
     "metadata": {},
     "output_type": "display_data"
    },
    {
     "data": {
      "text/html": [
       "<a href=\"https://humancompatibleai.github.io/sgf-viewer/#sgf=(;FF[4]GM[1]SZ[19]PB[b60-s7702m-v100000]PW[230520-s111218432-v600]BR[algo=MCTS,v=100000,rsym=1]WR[algo=AMCTS,v=600,rsym=1,opp_v=1,opp_rsym=1]HA[0]DT[20230530-022725~20230530-151141]KM[6.5]RU[koPOSITIONALscoreAREAtaxNONEsui1]RE[B+140.5];B[pd];W[qc];B[qd];W[cq];B[pc];W[cc];B[pp];W[qq];B[pq];W[cg];B[qp];W[cn];B[pj];W[pk];B[qj];W[nk];B[ok];W[nj];B[nl];W[ml];B[oj];W[ni];B[do];W[fq];B[mm];W[ll];B[nm];W[ri];B[dq];W[dr];B[oh];W[nh];B[gp];W[cp];B[og];W[gq];B[ip];W[of];B[ng];W[mg];B[mf];W[lg];B[lf];W[kg];B[kf];W[jg];B[id];W[je];B[jf];W[hf];B[if];W[ph];B[oi];W[ir];B[gd];W[fc];B[gc];W[fb];B[ig];W[ih];B[hh];W[ii];B[jq];W[jr];B[gb];W[cj];B[lq];W[kr];B[dn];W[rd];B[rc];W[pg];B[re];W[co];B[dd];W[cd];B[gl];W[hm];B[hl];W[ik];B[il];W[jl];B[jm];W[kl];B[de];W[ce];B[dc];W[db];B[cb];W[bb];B[hq];W[hr];B[dm];W[lr];B[mq];W[ga];B[eb];W[ca];B[ha];W[fa];B[fd];W[ea];B[ec];W[mr];B[da];W[ea];B[fp];W[eq];B[or];W[cm];B[dg];W[cf];B[dk];W[ck];B[dh];W[dp];B[ko];W[cl];B[dl];W[ch];B[mk];W[lj];B[hk];W[jn];B[km];W[kn];B[lm];W[ij];B[ei];W[nr];B[nq];W[fl];B[hi];W[gi];B[dj];W[gh];B[hj];W[gm];B[kq];W[ci];B[df];W[ie];B[ns];W[ln];B[fa];W[da];B[ms];W[rj];B[rk];W[rl];B[qk];W[sk];B[mh];W[mi];B[kk];W[kj];B[ls];W[ql];B[sj];W[si];B[nf];W[oe];B[qi];W[ke];B[ks];W[pi];B[js];W[qh];B[rg];W[om];B[ol];W[pn];B[iq];W[gj];B[is];W[hs];B[lk];W[jk];B[os];W[gr];B[ep];W[ne];B[sl];W[sm];B[rh];W[pf];B[di];W[sj];B[pl];W[nn];B[mn];W[mo];B[he];W[gg];B[no];W[on];B[fk];W[mp];B[qf];W[kc];B[lc];W[me];B[hg];W[gf];B[nd];W[gk];B[fm];W[el];B[em];W[ek];B[jo];W[fj];B[qm];W[sl];B[md];W[in];B[le];W[kd];B[ld];W[od];B[ff];W[oc];B[eo];W[mb];B[qb];W[qn];B[ob];W[rm];B[rq];W[nc];B[lb];W[kb];B[ma];W[na];B[ej];W[fk];B[hn];W[gn];B[lo];W[ho];B[ro];W[pm];B[im];W[np];B[oo];W[op];B[po];W[ka];B[oa];W[nb];B[oq];W[lp];B[la];W[kp];B[fn];W[io];B[jp];W[mo];B[hd];W[mp];B[lp];W[np];B[ja];W[mc];B[op];W[];B[sn];W[];B[sd];W[cr];B[fh];W[];B[jc];W[bc];B[so];W[lh];B[sh];W[];B[pe];W[jh];B[rn];W[];B[qm];W[];B[qg];W[];B[oc];W[];B[qo];W[];B[qr];W[];B[jb];W[];B[pm];W[];B[jd];W[];B[pf];W[];B[se];W[];B[ia];W[];B[rb];W[mj];B[ad];W[go];B[fe];W[bd];B[ka];W[ae];B[ed];W[ac];B[bf];W[af];B[fr];W[hp];B[eh];W[fb];B[fc];W[];B[])\n",
       "\">Link to game</a>"
      ],
      "text/plain": [
       "<IPython.core.display.HTML object>"
      ]
     },
     "metadata": {},
     "output_type": "display_data"
    },
    {
     "data": {
      "text/html": [
       "<a href=\"https://humancompatibleai.github.io/sgf-viewer/#sgf=(;FF[4]GM[1]SZ[19]PB[230520-s111218432-v600]PW[b60-s7702m-v100000]BR[algo=AMCTS,v=600,rsym=1,opp_v=1,opp_rsym=1]WR[algo=MCTS,v=100000,rsym=1]HA[0]DT[20230530-022725~20230530-161846]KM[6.5]RU[koPOSITIONALscoreAREAtaxNONEsui1]RE[W+139.5];B[qc];W[dp];B[qq];W[dd];B[cc];W[dc];B[qk];W[cd];B[cq];W[dq];B[nq];W[cp];B[pp];W[pd];B[qd];W[pf];B[qe];W[nf];B[pc];W[cj];B[dj];W[di];B[fj];W[ej];B[fi];W[dk];B[fk];W[ij];B[dh];W[eh];B[dg];W[fh];B[gh];W[gg];B[hh];W[hg];B[ih];W[ei];B[hj];W[jd];B[dl];W[jf];B[jj];W[mc];B[nb];W[el];B[fl];W[em];B[en];W[fm];B[gm];W[gn];B[hm];W[hn];B[im];W[ip];B[mb];W[kq];B[pe];W[kc];B[io];W[in];B[jm];W[jn];B[lr];W[ln];B[kr];W[jr];B[lb];W[kb];B[ka];W[ja];B[js];W[ir];B[qg];W[pk];B[qm];W[qj];B[rk];W[ph];B[ke];W[lc];B[la];W[ib];B[pg];W[pm];B[qo];W[nc];B[oc];W[lq];B[mq];W[ni];B[kf];W[jg];B[jh];W[lh];B[mh];W[mi];B[qh];W[og];B[rj];W[pn];B[qn];W[kh];B[ki];W[pi];B[qi];W[km];B[jb];W[jc];B[kl];W[ll];B[kk];W[mo];B[je];W[li];B[lo];W[mp];B[jo];W[oo];B[ko];W[kn];B[mn];W[op];B[oq];W[lk];B[mm];W[lp];B[kj];W[ek];B[qf];W[ne];B[ql];W[pj];B[bl];W[mr];B[bd];W[bc];B[ms];W[nr];B[bi];W[bj];B[ns];W[ma];B[na];W[ob];B[oa];W[is];B[ho];W[or];B[pr];W[lj];B[os];W[of];B[dm];W[fn];B[fo];W[dn];B[mg];W[od];B[eo];W[ks];B[oj];W[np];B[hf];W[ig];B[oi];W[pl];B[nj];W[oe];B[nh];W[js];B[cm];W[cn];B[bn];W[bo];B[bk];W[ck];B[aj];W[ci];B[ml];W[ls];B[cl];W[bh];B[am];W[ak];B[al];W[mr];B[ai];W[ah];B[eg];W[nr];B[ak];W[ch];B[ag];W[lr];B[bg];W[kg];B[or];W[po];B[gf];W[ff];B[fe];W[ee];B[fd];W[ie];B[id];W[bp];B[he];W[gd];B[if];W[ef];B[cg];W[fg];B[df];W[fc];B[ge];W[ed];B[eb];W[lf];B[fb];W[gb];B[gc];W[hc];B[bb];W[cb];B[ac];W[cc];B[be];W[ce];B[ec];W[ba];B[ab];W[fa];B[gc];W[ik];B[il];W[fc];B[do];W[co];B[db];W[ca];B[ad];W[aa];B[cf];W[af];B[dr];W[bq];B[go];W[hp];B[gp];W[gq];B[mj];W[ep];B[mk];W[ok];B[lg];W[nl];B[bf];W[er];B[gc];W[rp];B[qp];W[fc];B[da];W[ea];B[hk];W[ds];B[fp];W[nm];B[];W[hq];B[];W[nd];B[];W[es];B[];W[fq];B[];W[nk];B[qr];W[rq];B[jk];W[hr];B[sq];W[jb];B[rr];W[da];B[sp];W[cr];B[];W[rb];B[pb];W[mf];B[];W[ng];B[];W[kd];B[];W[ic];B[];W[hd];B[];W[ae];B[];W[lm];B[];W[ga];B[];W[aq];B[];W[le];B[];W[de];B[];W[hb];B[gl];W[kp];B[];W[so];B[gj];W[nn];B[ro];W[ec];B[];W[ji];B[ii];W[ie];B[];W[sn];B[];W[sl];B[ra];W[sm];B[];W[rc];B[];W[qa];B[qb];W[if];B[];W[sa];B[pa];W[rn];B[];W[rh];B[ri];W[oh];B[];W[ra];B[];W[sh];B[];W[si];B[sj];W[sb];B[rd];W[rm];B[];W[sd];B[rg];W[se];B[];W[sc];B[re];W[rl];B[];W[hs];B[];W[br];B[];W[jp];B[];W[sf];B[];W[sg];B[];W[ap];B[];W[rf];B[];W[ae];B[hi];W[af];B[sk];W[an];B[];W[bm];B[];W[])\n",
       "\">Link to game</a>"
      ],
      "text/plain": [
       "<IPython.core.display.HTML object>"
      ]
     },
     "metadata": {},
     "output_type": "display_data"
    },
    {
     "data": {
      "text/html": [
       "<a href=\"https://humancompatibleai.github.io/sgf-viewer/#sgf=(;FF[4]GM[1]SZ[19]PB[230520-s111218432-v600]PW[b60-s7702m-v100000]BR[algo=AMCTS,v=600,rsym=1,opp_v=1,opp_rsym=1]WR[algo=MCTS,v=100000,rsym=1]HA[0]DT[20230530-022724~20230530-155101]KM[6.5]RU[koPOSITIONALscoreAREAtaxNONEsui1]RE[W+125.5];B[qc];W[dp];B[cq];W[cp];B[cc];W[dq];B[pd];W[qp];B[qq];W[pq];B[qf];W[pp];B[nc];W[gc];B[db];W[jp];B[jq];W[iq];B[jo];W[ip];B[ko];W[kp];B[io];W[lo];B[ln];W[dd];B[cd];W[df];B[ho];W[mn];B[lm];W[mm];B[hq];W[hp];B[ll];W[go];B[gn];W[ml];B[nk];W[mk];B[lk];W[mj];B[mi];W[lj];B[kj];W[ki];B[jj];W[qj];B[jc];W[fn];B[gm];W[oi];B[ce];W[ge];B[ri];W[qi];B[rh];W[rj];B[dc];W[jd];B[kc];W[fo];B[fp];W[fm];B[gl];W[fl];B[gk];W[ck];B[ek];W[bi];B[hb];W[fk];B[cf];W[dg];B[bg];W[gj];B[hj];W[hi];B[ij];W[bh];B[de];W[ff];B[ah];W[cg];B[af];W[gh];B[sj];W[sk];B[hc];W[mg];B[qh];W[ph];B[oe];W[pf];B[rg];W[of];B[pe];W[me];B[nd];W[ld];B[lc];W[jh];B[md];W[ie];B[ee];W[hd];B[gg];W[kd];B[kh];W[ji];B[fi];W[ii];B[jg];W[ai];B[ir];W[kq];B[si];W[rk];B[gq];W[jr];B[ic];W[ef];B[fb];W[ne];B[nn];W[fc];B[gb];W[ec];B[eb];W[gi];B[mp];W[ag];B[bf];W[hn];B[im];W[pg];B[hr];W[fr];B[eo];W[qg];B[qe];W[sg];B[sf];W[re];B[rf];W[kk];B[jl];W[kn];B[jn];W[hm];B[hl];W[ah];B[ep];W[gp];B[lh];W[ed];B[en];W[fe];B[nl];W[id];B[fh];W[mo];B[no];W[fq];B[nj];W[li];B[mh];W[np];B[lq];W[nm];B[lr];W[kg];B[om];W[mr];B[ig];W[pm];B[on];W[ni];B[nh];W[ol];B[pl];W[lg];B[ok];W[ql];B[ng];W[nf];B[kr];W[ks];B[js];W[is];B[nq];W[op];B[mq];W[js];B[ls];W[nr];B[or];W[pr];B[em];W[lp];B[ih];W[jq];B[hh];W[ej];B[ns];W[dk];B[hs];W[el];B[dl];W[ek];B[cl];W[bl];B[bk];W[cm];B[dm];W[bj];B[bm];W[ak];B[cj];W[bq];B[fd];W[gd];B[ei];W[ci];B[dj];W[bk];B[di];W[qr];B[dh];W[jf];B[ch];W[fj];B[pn];W[pk];B[qm];W[qn];B[al];W[am];B[bn];W[rm];B[an];W[gs];B[ol];W[oo];B[eq];W[er];B[gr];W[pm];B[kf];W[cn];B[sh];W[cr];B[se];W[ao];B[];W[qo];B[rd];W[eh];B[];W[bo];B[];W[oq];B[];W[hg];B[];W[oh];B[];W[gf];B[];W[hs];B[];W[do];B[];W[an];B[];W[fs];B[];W[pj];B[];W[bn];B[];W[mf];B[mc];W[og];B[];W[le];B[];W[dn];B[];W[if];B[];W[hf];B[];W[ms];B[];W[os];B[];W[sn];B[];W[sp];B[];W[rs];B[kl];W[rp];B[];W[sr];B[in];W[qs];B[];W[sa];B[ra];W[eg];B[sb];W[ad];B[ac];W[pi];B[bd];W[ss];B[rn];W[fg];B[rl];W[lf];B[il];W[ca];B[da];W[qm];B[jk];W[oj];B[ae];W[ro];B[cb];W[po];B[ba];W[cq];B[];W[])\n",
       "\">Link to game</a>"
      ],
      "text/plain": [
       "<IPython.core.display.HTML object>"
      ]
     },
     "metadata": {},
     "output_type": "display_data"
    },
    {
     "data": {
      "text/html": [
       "<a href=\"https://humancompatibleai.github.io/sgf-viewer/#sgf=(;FF[4]GM[1]SZ[19]PB[b60-s7702m-v100000]PW[230520-s111218432-v600]BR[algo=MCTS,v=100000,rsym=1]WR[algo=AMCTS,v=600,rsym=1,opp_v=1,opp_rsym=1]HA[0]DT[20230530-022724~20230530-151654]KM[6.5]RU[koPOSITIONALscoreAREAtaxNONEsui1]RE[B+114.5];B[pd];W[qc];B[qd];W[cc];B[pc];W[cq];B[pp];W[qq];B[pq];W[cn];B[qp];W[cf];B[pj];W[nj];B[dg];W[pk];B[qk];W[cg];B[ok];W[nk];B[ip];W[nl];B[pl];W[pm];B[ln];W[qm];B[om];W[pi];B[ol];W[km];B[oi];W[lo];B[kn];W[ni];B[oh];W[lm];B[mn];W[mm];B[jn];W[jm];B[gq];W[ib];B[in];W[fr];B[gr];W[jo];B[hd];W[hb];B[dd];W[hn];B[im];W[il];B[hm];W[dc];B[nh];W[mh];B[mg];W[lh];B[ed];W[ec];B[lg];W[kf];B[kg];W[kh];B[jg];W[jh];B[jc];W[jb];B[lc];W[rp];B[rq];W[kb];B[fc];W[fb];B[dh];W[jf];B[ig];W[cd];B[kc];W[lb];B[ep];W[hg];B[ih];W[ii];B[hi];W[ij];B[dq];W[cr];B[mc];W[dr];B[hl];W[ik];B[dm];W[cm];B[do];W[co];B[dl];W[gl];B[gk];W[cl];B[dk];W[cj];B[df];W[ch];B[gc];W[mb];B[ob];W[lq];B[ir];W[gb];B[dj];W[ck];B[nm];W[gi];B[hj];W[es];B[nb];W[kr];B[fq];W[ci];B[di];W[on];B[mr];W[io];B[nn];W[oo];B[dn];W[fk];B[hk];W[gm];B[cp];W[bp];B[gs];W[lr];B[ro];W[rn];B[de];W[ce];B[ma];W[rl];B[po];W[ql];B[la];W[rk];B[rj];W[qi];B[ri];W[rh];B[qj];W[rf];B[oj];W[mq];B[nr];W[no];B[ka];W[eq];B[dp];W[er];B[mo];W[mp];B[ja];W[ho];B[ko];W[lp];B[ia];W[kp];B[jp];W[ha];B[na];W[sh];B[ic];W[si];B[sj];W[pg];B[re];W[sk];B[sm];W[og];B[qg];W[ph];B[hc];W[if];B[ml];W[lk];B[mi];W[mj];B[jk];W[kk];B[jl];W[jj];B[ng];W[nf];B[fs];W[mf];B[fi];W[gh];B[hh];W[hf];B[fm];W[fl];B[of];W[pf];B[bo];W[gj];B[bq];W[br];B[ap];W[ar];B[ea];W[eb];B[ji];W[kj];B[bs];W[cs];B[al];W[nq];B[qf];W[or];B[ll];W[oe];B[kl];W[pr];B[pn];W[qr];B[rr];W[oq];B[ak];W[aj];B[bj];W[op];B[rs];W[bk];B[ai];W[ah];B[aj];W[bi];B[an];W[jr];B[is];W[jq];B[iq];W[mk];B[js];W[qs];B[sp];W[bn];B[am];W[ks];B[bm];W[bl];B[ao];W[aq];B[bp];W[as];B[lf];W[da];B[gg];W[];B[ke];W[];B[sn];W[];B[hp];W[];B[rc];W[];B[me];W[];B[ie];W[];B[sf];W[];B[rg];W[];B[qh];W[];B[gn];W[];B[qn];W[];B[rm];W[];B[el];W[];B[fh];W[];B[od];W[];B[ne];W[fa];B[ek];W[];B[of];W[];B[sg];W[];B[pe];W[];B[sl];W[];B[qb];W[];B[go];W[ms];B[md];W[];B[io];W[];B[pf];W[];B[fj];W[ls];B[ei];W[li];B[gf];W[];B[he];W[];B[je];W[];B[ge];W[];B[nc];W[];B[gm];W[];B[qc];W[];B[hs];W[];B[km];W[];B[ba];W[aa];B[];W[bb];B[];W[ca];B[ac];W[bc];B[];W[ad];B[ag];W[bh];B[];W[bd];B[];W[ab];B[];W[])\n",
       "\">Link to game</a>"
      ],
      "text/plain": [
       "<IPython.core.display.HTML object>"
      ]
     },
     "metadata": {},
     "output_type": "display_data"
    }
   ],
   "source": [
    "adv = \"230520-s111218432-v600\"\n",
    "opp = \"b60-s7702m-v100000\"\n",
    "sub_df = df.query(\n",
    "    \"|\".join(\n",
    "        [\n",
    "            \"(b_name == @opp and w_name == @adv)\",\n",
    "            \"(b_name == @adv and w_name == @opp)\",\n",
    "        ]\n",
    "    )\n",
    ")\n",
    "\n",
    "print(\"Winning games\")\n",
    "for row in list(sub_df.query(\"win_name == @adv\").itertuples())[:5]:\n",
    "    display_link(game_info.get_viz_link(row.sgf_path, row.sgf_line))\n",
    "\n",
    "print(\"Losing games\")\n",
    "for row in list(sub_df.query(\"win_name == @opp\").itertuples())[:5]:\n",
    "    display_link(game_info.get_viz_link(row.sgf_path, row.sgf_line))"
   ]
  }
 ],
 "metadata": {
  "kernelspec": {
   "display_name": "venv",
   "language": "python",
   "name": "python3"
  },
  "language_info": {
   "codemirror_mode": {
    "name": "ipython",
    "version": 3
   },
   "file_extension": ".py",
   "mimetype": "text/x-python",
   "name": "python",
   "nbconvert_exporter": "python",
   "pygments_lexer": "ipython3",
   "version": "3.10.6"
  },
  "orig_nbformat": 4
 },
 "nbformat": 4,
 "nbformat_minor": 2
}
