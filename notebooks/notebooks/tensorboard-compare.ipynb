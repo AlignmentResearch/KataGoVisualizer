{
 "cells": [
  {
   "cell_type": "code",
   "execution_count": 1,
   "metadata": {},
   "outputs": [],
   "source": [
    "from typing import Dict\n",
    "\n",
    "import matplotlib.pyplot as plt\n",
    "import numpy as np\n",
    "import pandas as pd\n",
    "import tbparse\n",
    "from IPython.display import display\n",
    "from tqdm.contrib.concurrent import process_map"
   ]
  },
  {
   "cell_type": "markdown",
   "metadata": {},
   "source": [
    "### Helper functions"
   ]
  },
  {
   "cell_type": "code",
   "execution_count": 6,
   "metadata": {},
   "outputs": [],
   "source": [
    "def process_df_tb(df_tb, use_vtimeloss: bool = False):\n",
    "    df_tb[\"dps_seen\"] = df_tb.step * 256  # Multiple by batch size\n",
    "\n",
    "    tb_metric_dict: Dict[str, pd.Series] = {}\n",
    "    for tag in df_tb.tag.unique():\n",
    "        sdf: pd.DataFrame = df_tb[df_tb.tag == tag]  # type: ignore\n",
    "        tb_metric_dict[tag] = sdf.set_index(\"dps_seen\").value\n",
    "        tb_metric_dict[tag].name = tag\n",
    "\n",
    "    print(tb_metric_dict.keys())\n",
    "\n",
    "    loss_components = [\n",
    "        \"p0loss_1\",\n",
    "        \"p1loss_1\",\n",
    "        \"vloss_1\",\n",
    "        \"tdvloss_1\",\n",
    "        \"tdsloss_1\",\n",
    "        \"smloss_1\",\n",
    "        \"leadloss_1\",\n",
    "        \"sbpdfloss_1\",\n",
    "        \"sbcdfloss_1\",\n",
    "        \"oloss_1\",\n",
    "        \"sloss_1\",\n",
    "        \"fploss_1\",\n",
    "        \"skloss_1\",\n",
    "        \"rsdloss_1\",\n",
    "        \"evstloss_1\",\n",
    "        \"esstloss_1\",\n",
    "        \"rloss_1\",\n",
    "        \"rscloss_1\",\n",
    "        *([\"vtimeloss_1\"] if use_vtimeloss else []),\n",
    "    ]\n",
    "    print(\n",
    "        \"Not present losses:\", [k for k in loss_components if k not in tb_metric_dict]\n",
    "    )\n",
    "\n",
    "    manual_total: pd.Series = sum(\n",
    "        tb_metric_dict[k] for k in loss_components if k in tb_metric_dict\n",
    "    )\n",
    "    manual_total.name = \"manual_total\"\n",
    "    tb_metric_dict[\"manual_total\"] = manual_total\n",
    "\n",
    "    return tb_metric_dict"
   ]
  },
  {
   "cell_type": "markdown",
   "metadata": {},
   "source": [
    "### Load tensorboards"
   ]
  },
  {
   "cell_type": "code",
   "execution_count": 4,
   "metadata": {},
   "outputs": [],
   "source": [
    "def get_df_tb(data_dir: str, predictor: bool = True) -> pd.DataFrame:\n",
    "    \"\"\"\n",
    "    Assumes runs are not resumed so there is only a single tensorboard!\n",
    "    Should probably be run with %%capture to hide output.\n",
    "    \"\"\"\n",
    "    reader = tbparse.SummaryReader(\n",
    "        f\"{data_dir}/predictor/train/t0\" if predictor else f\"{data_dir}/train/t0\",\n",
    "        event_types={\"scalars\"},\n",
    "    )\n",
    "    return reader.scalars"
   ]
  },
  {
   "cell_type": "code",
   "execution_count": 7,
   "metadata": {},
   "outputs": [],
   "source": [
    "%%capture\n",
    "df_b6_i127 = get_df_tb(\n",
    "    \"/nas/ucb/tony/go-attack/weka/victimplay/full-curriculum-predictor-20220927-224321\"\n",
    ")\n",
    "df_b10_i127 = get_df_tb(\"/nas/ucb/tony/go-attack/training/vpred/b10-curr-cp127-init\")\n",
    "df_b15_i127 = get_df_tb(\"/nas/ucb/tony/go-attack/training/vpred/b15-curr-cp127-init\")\n",
    "df_b10_i505 = get_df_tb(\"/nas/ucb/tony/go-attack/training/vpred/b10-curr\")\n",
    "df_b20_i505 = get_df_tb(\"/nas/ucb/tony/go-attack/training/vpred/b20-curr-cp505-init\")"
   ]
  },
  {
   "cell_type": "code",
   "execution_count": 8,
   "metadata": {},
   "outputs": [
    {
     "name": "stdout",
     "output_type": "stream",
     "text": [
      "dict_keys(['cumulative_data', 'cumulative_data_reuse', 'excessgnorm_1', 'fploss_1', 'global_step/sec', 'gnorm_1', 'leadloss_1', 'loss', 'nsamp', 'oloss_1', 'p0loss_1', 'p1loss_1', 'pacc1_1', 'pslr', 'ptentr_1', 'rloss_1', 'rscloss_1', 'rsdloss_1', 'sbcdfloss_1', 'sbpdfloss_1', 'skloss_1', 'skw', 'sloss_1', 'smloss_1', 'tdvloss_1', 'ventr_1', 'vloss_1', 'vtimeloss_1', 'wmean', 'wsum'])\n",
      "Not present losses: ['tdsloss_1', 'evstloss_1', 'esstloss_1']\n",
      "dict_keys(['cumulative_data', 'cumulative_data_reuse', 'esstloss_1', 'evstloss_1', 'excessgnorm_1', 'fploss_1', 'global_step/sec', 'gnorm_1', 'leadloss_1', 'loss', 'nsamp', 'oloss_1', 'p0loss_1', 'p1loss_1', 'pacc1_1', 'pslr', 'ptentr_1', 'rloss_1', 'rscloss_1', 'rsdloss_1', 'sbcdfloss_1', 'sbpdfloss_1', 'skloss_1', 'skw', 'sloss_1', 'smloss_1', 'tdsloss_1', 'tdvloss_1', 'ventr_1', 'vloss_1', 'vtimeloss_1', 'wmean', 'wsum'])\n",
      "Not present losses: []\n",
      "dict_keys(['cumulative_data', 'cumulative_data_reuse', 'esstloss_1', 'evstloss_1', 'excessgnorm_1', 'fploss_1', 'global_step/sec', 'gnorm_1', 'leadloss_1', 'loss', 'nsamp', 'oloss_1', 'p0loss_1', 'p1loss_1', 'pacc1_1', 'pslr', 'ptentr_1', 'rloss_1', 'rscloss_1', 'rsdloss_1', 'sbcdfloss_1', 'sbpdfloss_1', 'skloss_1', 'skw', 'sloss_1', 'smloss_1', 'tdsloss_1', 'tdvloss_1', 'ventr_1', 'vloss_1', 'vtimeloss_1', 'wmean', 'wsum'])\n",
      "Not present losses: []\n",
      "dict_keys(['cumulative_data', 'cumulative_data_reuse', 'esstloss_1', 'evstloss_1', 'excessgnorm_1', 'fploss_1', 'global_step/sec', 'gnorm_1', 'leadloss_1', 'loss', 'nsamp', 'oloss_1', 'p0loss_1', 'p1loss_1', 'pacc1_1', 'pslr', 'ptentr_1', 'rloss_1', 'rscloss_1', 'rsdloss_1', 'sbcdfloss_1', 'sbpdfloss_1', 'skloss_1', 'skw', 'sloss_1', 'smloss_1', 'tdsloss_1', 'tdvloss_1', 'ventr_1', 'vloss_1', 'vtimeloss_1', 'wmean', 'wsum'])\n",
      "Not present losses: []\n",
      "dict_keys(['cumulative_data', 'cumulative_data_reuse', 'esstloss_1', 'evstloss_1', 'excessgnorm_1', 'fploss_1', 'global_step/sec', 'gnorm_1', 'leadloss_1', 'loss', 'nsamp', 'oloss_1', 'p0loss_1', 'p1loss_1', 'pacc1_1', 'pslr', 'ptentr_1', 'rloss_1', 'rscloss_1', 'rsdloss_1', 'sbcdfloss_1', 'sbpdfloss_1', 'skloss_1', 'skw', 'sloss_1', 'smloss_1', 'tdsloss_1', 'tdvloss_1', 'ventr_1', 'vloss_1', 'vtimeloss_1', 'wmean', 'wsum'])\n",
      "Not present losses: []\n"
     ]
    }
   ],
   "source": [
    "md_b6_i127 = process_df_tb(df_b6_i127)\n",
    "md_b10_i127 = process_df_tb(df_b10_i127)\n",
    "md_b15_i127 = process_df_tb(df_b15_i127)\n",
    "md_b10_i505 = process_df_tb(df_b10_i505)\n",
    "md_b20_i505 = process_df_tb(df_b20_i505)"
   ]
  },
  {
   "cell_type": "markdown",
   "metadata": {},
   "source": [
    "### Plots"
   ]
  },
  {
   "cell_type": "code",
   "execution_count": 10,
   "metadata": {},
   "outputs": [
    {
     "data": {
      "image/png": "[encoded data removed]",
      "text/plain": [
       "<Figure size 432x288 with 1 Axes>"
      ]
     },
     "metadata": {
      "needs_background": "light"
     },
     "output_type": "display_data"
    }
   ],
   "source": [
    "md_b6_i127[\"p0loss_1\"].plot(label=\"b6_i127\")\n",
    "md_b10_i127[\"p0loss_1\"].plot(label=\"b10_i127\")\n",
    "md_b15_i127[\"p0loss_1\"].plot(label=\"b15_i127\")\n",
    "md_b10_i505[\"p0loss_1\"].plot(label=\"b10_i505\")\n",
    "md_b20_i505[\"p0loss_1\"].plot(label=\"b20_i505\")\n",
    "\n",
    "plt.title(\"p0loss_1\")\n",
    "plt.yscale(\"log\")\n",
    "plt.legend()\n",
    "plt.show()"
   ]
  }
 ],
 "metadata": {
  "kernelspec": {
   "display_name": "Python 3.7.11 ('go-attack')",
   "language": "python",
   "name": "python3"
  },
  "language_info": {
   "codemirror_mode": {
    "name": "ipython",
    "version": 3
   },
   "file_extension": ".py",
   "mimetype": "text/x-python",
   "name": "python",
   "nbconvert_exporter": "python",
   "pygments_lexer": "ipython3",
   "version": "3.7.11"
  },
  "orig_nbformat": 4,
  "vscode": {
   "interpreter": {
    "hash": "f98d5c4d1645d34a0813603cd1e0949dab602d7043996c26d654b3cb5948276e"
   }
  }
 },
 "nbformat": 4,
 "nbformat_minor": 2
}
