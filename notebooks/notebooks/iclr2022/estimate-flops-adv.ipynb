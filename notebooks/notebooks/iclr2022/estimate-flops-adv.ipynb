{
 "cells": [
  {
   "attachments": {},
   "cell_type": "markdown",
   "metadata": {},
   "source": [
    "This notebook allows one to estimate the compute involved in training a model."
   ]
  },
  {
   "attachments": {},
   "cell_type": "markdown",
   "metadata": {},
   "source": [
    "### Load libraries"
   ]
  },
  {
   "cell_type": "code",
   "execution_count": 1,
   "metadata": {},
   "outputs": [],
   "source": [
    "import pathlib\n",
    "\n",
    "from sgf_parser import game_info"
   ]
  },
  {
   "attachments": {},
   "cell_type": "markdown",
   "metadata": {},
   "source": [
    "### Load training run data"
   ]
  },
  {
   "cell_type": "code",
   "execution_count": 2,
   "metadata": {},
   "outputs": [],
   "source": [
    "def get_game_infos(data_dir: str):\n",
    "    sgf_paths = game_info.find_sgf_files(root=pathlib.Path(f\"{data_dir}/selfplay\"))\n",
    "    return game_info.read_and_parse_all_files(\n",
    "        sgf_paths,\n",
    "        fast_parse=True,\n",
    "    )"
   ]
  },
  {
   "cell_type": "code",
   "execution_count": 3,
   "metadata": {},
   "outputs": [
    {
     "data": {
      "text/plain": [
       "201896"
      ]
     },
     "execution_count": 3,
     "metadata": {},
     "output_type": "execute_result"
    }
   ],
   "source": [
    "# Training run for passing adversary\n",
    "GAME_INFOS_PASS = get_game_infos(\n",
    "    \"/nas/ucb/tony/go-attack/training/emcts1-curr/cp127-to-505-v1\"\n",
    ")\n",
    "len(GAME_INFOS_PASS)"
   ]
  },
  {
   "cell_type": "code",
   "execution_count": 4,
   "metadata": {},
   "outputs": [
    {
     "data": {
      "text/plain": [
       "1015622"
      ]
     },
     "execution_count": 4,
     "metadata": {},
     "output_type": "execute_result"
    }
   ],
   "source": [
    "# Training run for cyclic adversary\n",
    "# https://www.notion.so/chaiberkeley/adv-b6-600-vs-avoid-pass-alive-v1-curriculum-start-at-cp39-again-ba7cb9bd348d409db3e6fb9c89a56227\n",
    "GAME_INFOS_DEF = get_game_infos(\n",
    "    \"/nas/ucb/k8/go-attack/victimplay/ttseng-avoid-pass-alive-coldstart-39-20221025-175949\"\n",
    ")\n",
    "len(GAME_INFOS_DEF)"
   ]
  },
  {
   "attachments": {},
   "cell_type": "markdown",
   "metadata": {},
   "source": [
    "### Estimate compute"
   ]
  },
  {
   "cell_type": "code",
   "execution_count": 5,
   "metadata": {},
   "outputs": [
    {
     "name": "stdout",
     "output_type": "stream",
     "text": [
      "adv: b6c96 600\n",
      "victim: b40c256 4096\n",
      "# moves: 401\n",
      "adv flops: 2051545500797076.5\n",
      "victim flops: 2.7435039207319132e+16\n",
      "2.948658470811621e+16\n",
      "\n",
      "adv: b6c96 600\n",
      "victim: b40c256 1\n",
      "# moves: 28\n",
      "adv flops: 143250059906030.28\n",
      "victim flops: 467691305065.54395\n",
      "143717751211095.8\n"
     ]
    }
   ],
   "source": [
    "# Computed in the estimate-flops-katago.ipynb notebook\n",
    "# (output of Cell 8, also stored in a global variable called MACS_DICT)\n",
    "# The (random: 0 is added by us here).\n",
    "MACS_DICT = {\n",
    "    \"b10c128\": 1052902056.7067871,\n",
    "    \"b15c192\": 3535965536.369873,\n",
    "    \"b20c256\": 8392483407.783936,\n",
    "    \"b40c256\": 16703260895.197998,\n",
    "    \"b60c320\": 38884293414.61206,\n",
    "    \"b6c96\": 350317665.0437012,\n",
    "} | {\"random\": 0}\n",
    "\n",
    "\n",
    "def compute_flops(\n",
    "    info: dict[str, int | str],\n",
    "    adv_net_size: str,\n",
    "    verbose: bool = False,\n",
    ") -> float:\n",
    "    \"\"\"\n",
    "    Given an game info dict, returns the number of flops used in that game.\n",
    "\n",
    "    Assumes a constant adv_net_size.\n",
    "    \"\"\"\n",
    "\n",
    "    if info[\"adv_name\"] == \"random\":\n",
    "        adv_net_size = \"random\"\n",
    "    assert adv_net_size in MACS_DICT\n",
    "\n",
    "    adv_visits: int = int(info[\"adv_visits\"]) if info[\"adv_visits\"] is not None else 600\n",
    "\n",
    "    victim_net_size: str = info[\"victim_name\"].split(\"-\")[2]  # type: ignore\n",
    "    if victim_net_size.endswith(\"x2\"):\n",
    "        victim_net_size = victim_net_size[:-2]\n",
    "    victim_visits: int = int(info[\"victim_visits\"])\n",
    "\n",
    "    num_moves: int = int(info[\"num_moves\"])\n",
    "    adv_moves = num_moves / 2\n",
    "    victim_moves = num_moves / 2\n",
    "\n",
    "    # 2 flops per MAC\n",
    "    adv_flops = (\n",
    "        2\n",
    "        * adv_moves\n",
    "        * adv_visits\n",
    "        * ((MACS_DICT[adv_net_size] + MACS_DICT[victim_net_size]) / 2)\n",
    "    )\n",
    "\n",
    "    victim_flops = 2 * victim_moves * victim_visits * MACS_DICT[victim_net_size]\n",
    "\n",
    "    if verbose:\n",
    "        print(\"adv:\", adv_net_size, adv_visits)\n",
    "        print(\"victim:\", victim_net_size, victim_visits)\n",
    "        print(\"# moves:\", num_moves)\n",
    "        print(\"adv flops:\", adv_flops)\n",
    "        print(\"victim flops:\", victim_flops)\n",
    "\n",
    "    return adv_flops + victim_flops\n",
    "\n",
    "\n",
    "print(compute_flops(GAME_INFOS_DEF[135010], adv_net_size=\"b6c96\", verbose=True))\n",
    "print()\n",
    "print(compute_flops(GAME_INFOS_PASS[50], adv_net_size=\"b6c96\", verbose=True))"
   ]
  },
  {
   "cell_type": "code",
   "execution_count": 6,
   "metadata": {},
   "outputs": [
    {
     "name": "stdout",
     "output_type": "stream",
     "text": [
      "Pass run stats\n",
      "Tot moves: 22254080\n",
      "Tot rows: 15021246\n",
      "Moves / row: 1.481506926922041\n",
      "\n",
      "Def run stats\n",
      "Tot moves: 305376648\n",
      "Tot rows: 137006591\n",
      "Moves / row: 2.2289193955639695\n"
     ]
    }
   ],
   "source": [
    "def count_rows_and_moves(game_infos):\n",
    "    tot_moves = sum(info[\"num_moves\"] for info in game_infos)\n",
    "    tot_rows = max(\n",
    "        int(info[\"adv_name\"].split(\"-\")[2].lstrip(\"d\"))\n",
    "        for info in game_infos\n",
    "        if info[\"adv_name\"] != \"random\"\n",
    "    )\n",
    "\n",
    "    # There are roughly 2x as many moves as rows,\n",
    "    # since we only train on moves made by the adversary.\n",
    "    print(\"Tot moves:\", tot_moves)\n",
    "    print(\"Tot rows:\", tot_rows)\n",
    "    print(\"Moves / row:\", tot_moves / tot_rows)\n",
    "\n",
    "\n",
    "print(\"Pass run stats\")\n",
    "count_rows_and_moves(GAME_INFOS_PASS)\n",
    "\n",
    "print()\n",
    "print(\"Def run stats\")\n",
    "count_rows_and_moves(GAME_INFOS_DEF)"
   ]
  },
  {
   "cell_type": "code",
   "execution_count": 7,
   "metadata": {},
   "outputs": [
    {
     "name": "stdout",
     "output_type": "stream",
     "text": [
      "Pass run: Total FLOPs\n",
      "1.125046864835051e+20\n"
     ]
    }
   ],
   "source": [
    "print(\"Pass run: Total FLOPs\")\n",
    "print(sum(compute_flops(info, adv_net_size=\"b6c96\") for info in GAME_INFOS_PASS))"
   ]
  },
  {
   "cell_type": "code",
   "execution_count": 8,
   "metadata": {},
   "outputs": [
    {
     "name": "stdout",
     "output_type": "stream",
     "text": [
      "Def run: FLOPs up to playing against victim with 256 moves\n",
      "1.132901791968054e+21\n"
     ]
    }
   ],
   "source": [
    "print(\"Def run: FLOPs up to playing against victim with 256 moves\")\n",
    "print(\n",
    "    sum(\n",
    "        compute_flops(info, adv_net_size=\"b6c96\")\n",
    "        for info in GAME_INFOS_DEF\n",
    "        if int(info[\"victim_visits\"]) <= 256\n",
    "    )\n",
    ")"
   ]
  },
  {
   "cell_type": "code",
   "execution_count": 9,
   "metadata": {},
   "outputs": [
    {
     "name": "stdout",
     "output_type": "stream",
     "text": [
      "Def run: FLOPs up to 1mil visit experiment adversary\n",
      "9.579539505273113e+21\n"
     ]
    }
   ],
   "source": [
    "# Compute up to t0-s545065216-d136760487\n",
    "# which was used in the 1mil/10mil experiments.\n",
    "# https://www.notion.so/chaiberkeley/match-adv-s545m-v600-vs-cp505-v1mil-10search_threads-50ccb5697f404c559a1763b7cfa759ef\n",
    "print(\"Def run: FLOPs up to 1mil visit experiment adversary\")\n",
    "print(\n",
    "    sum(\n",
    "        compute_flops(info, adv_net_size=\"b6c96\")\n",
    "        for info in GAME_INFOS_DEF\n",
    "        if int(info[\"adv_steps\"]) <= 545065216\n",
    "    )\n",
    ")"
   ]
  }
 ],
 "metadata": {
  "kernelspec": {
   "display_name": "venv",
   "language": "python",
   "name": "python3"
  },
  "language_info": {
   "codemirror_mode": {
    "name": "ipython",
    "version": 3
   },
   "file_extension": ".py",
   "mimetype": "text/x-python",
   "name": "python",
   "nbconvert_exporter": "python",
   "pygments_lexer": "ipython3",
   "version": "3.10.6"
  },
  "orig_nbformat": 4,
  "vscode": {
   "interpreter": {
    "hash": "23393d2575091a37cff0d0e9e7479591a295495b26c3b2ebf9b64da572e02d85"
   }
  }
 },
 "nbformat": 4,
 "nbformat_minor": 2
}
