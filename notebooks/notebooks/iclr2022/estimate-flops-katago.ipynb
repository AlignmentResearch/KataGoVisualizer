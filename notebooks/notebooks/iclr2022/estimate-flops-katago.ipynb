{
 "cells": [
  {
   "attachments": {},
   "cell_type": "markdown",
   "metadata": {},
   "source": [
    "In this notebook,\n",
    "we estimate the FLOPs needed to compute the forward pass\n",
    "of various KataGo models.\n",
    "\n",
    "This notebook works in the provided Docker container,\n",
    "though has only been tested when a GPU is available.\n",
    "It will probably be very slow without a GPU."
   ]
  },
  {
   "attachments": {},
   "cell_type": "markdown",
   "metadata": {},
   "source": [
    "### Load libraries"
   ]
  },
  {
   "cell_type": "code",
   "execution_count": 1,
   "metadata": {},
   "outputs": [],
   "source": [
    "import contextlib\n",
    "import os\n",
    "import pathlib\n",
    "import sys\n",
    "import warnings\n",
    "\n",
    "import git.repo\n",
    "import matplotlib.pyplot as plt\n",
    "import numpy as np\n",
    "import pandas as pd\n",
    "import ptflops\n",
    "import requests\n",
    "import thop\n",
    "import torch\n",
    "from bs4 import BeautifulSoup\n",
    "from torch import nn\n",
    "from tqdm.auto import tqdm\n",
    "\n",
    "# We need to import some libraries from upstream KataGo.\n",
    "# KataGo doesn't have a setup.py, so we modify sys.path instead (kinda hacky).\n",
    "GIT_ROOT = pathlib.Path(\n",
    "    str(git.repo.Repo(\".\", search_parent_directories=True).working_tree_dir)\n",
    ")\n",
    "sys.path.append(str(GIT_ROOT / \"submodules/KataGo-pytorch-rewrite/python\"))\n",
    "\n",
    "import modelconfigs\n",
    "from model_pytorch import Model"
   ]
  },
  {
   "attachments": {},
   "cell_type": "markdown",
   "metadata": {},
   "source": [
    "### Load KataGo training history"
   ]
  },
  {
   "cell_type": "code",
   "execution_count": 2,
   "metadata": {},
   "outputs": [
    {
     "data": {
      "text/plain": [
       "540"
      ]
     },
     "execution_count": 2,
     "metadata": {},
     "output_type": "execute_result"
    }
   ],
   "source": [
    "# Pull data from https://katagotraining.org/networks/\n",
    "r = requests.get(\"https://katagotraining.org/networks/\")\n",
    "soup = BeautifulSoup(r.content, \"html.parser\")\n",
    "\n",
    "# Get the name of all the networks\n",
    "network_names = [\n",
    "    x.td.text.strip()\n",
    "    for x in soup.find_all(\n",
    "        \"tr\",\n",
    "        {\n",
    "            \"class\": lambda x: x\n",
    "            in (\n",
    "                \"normalNetworkStyle\",\n",
    "                \"strongestNetworkStyle\",\n",
    "            )\n",
    "        },\n",
    "    )\n",
    "]\n",
    "assert network_names[-1] == \"kata1-random\"\n",
    "network_names = network_names[:-1]\n",
    "len(network_names)"
   ]
  },
  {
   "cell_type": "code",
   "execution_count": 3,
   "metadata": {},
   "outputs": [
    {
     "data": {
      "text/html": [
       "<div>\n",
       "<style scoped>\n",
       "    .dataframe tbody tr th:only-of-type {\n",
       "        vertical-align: middle;\n",
       "    }\n",
       "\n",
       "    .dataframe tbody tr th {\n",
       "        vertical-align: top;\n",
       "    }\n",
       "\n",
       "    .dataframe thead th {\n",
       "        text-align: right;\n",
       "    }\n",
       "</style>\n",
       "<table border=\"1\" class=\"dataframe\">\n",
       "  <thead>\n",
       "    <tr style=\"text-align: right;\">\n",
       "      <th></th>\n",
       "      <th>name</th>\n",
       "      <th>net_size</th>\n",
       "      <th>steps</th>\n",
       "      <th>rows</th>\n",
       "    </tr>\n",
       "  </thead>\n",
       "  <tbody>\n",
       "    <tr>\n",
       "      <th>0</th>\n",
       "      <td>kata1-b60c320-s6782286336-d3070935549</td>\n",
       "      <td>b60c320</td>\n",
       "      <td>6782286336</td>\n",
       "      <td>3070935549</td>\n",
       "    </tr>\n",
       "    <tr>\n",
       "      <th>1</th>\n",
       "      <td>kata1-b60c320-s6769829376-d3067673297</td>\n",
       "      <td>b60c320</td>\n",
       "      <td>6769829376</td>\n",
       "      <td>3067673297</td>\n",
       "    </tr>\n",
       "    <tr>\n",
       "      <th>2</th>\n",
       "      <td>kata1-b60c320-s6757237760-d3064295323</td>\n",
       "      <td>b60c320</td>\n",
       "      <td>6757237760</td>\n",
       "      <td>3064295323</td>\n",
       "    </tr>\n",
       "    <tr>\n",
       "      <th>3</th>\n",
       "      <td>kata1-b60c320-s6744642560-d3061231329</td>\n",
       "      <td>b60c320</td>\n",
       "      <td>6744642560</td>\n",
       "      <td>3061231329</td>\n",
       "    </tr>\n",
       "    <tr>\n",
       "      <th>4</th>\n",
       "      <td>kata1-b60c320-s6729327872-d3057177418</td>\n",
       "      <td>b60c320</td>\n",
       "      <td>6729327872</td>\n",
       "      <td>3057177418</td>\n",
       "    </tr>\n",
       "  </tbody>\n",
       "</table>\n",
       "</div>"
      ],
      "text/plain": [
       "                                    name net_size       steps        rows\n",
       "0  kata1-b60c320-s6782286336-d3070935549  b60c320  6782286336  3070935549\n",
       "1  kata1-b60c320-s6769829376-d3067673297  b60c320  6769829376  3067673297\n",
       "2  kata1-b60c320-s6757237760-d3064295323  b60c320  6757237760  3064295323\n",
       "3  kata1-b60c320-s6744642560-d3061231329  b60c320  6744642560  3061231329\n",
       "4  kata1-b60c320-s6729327872-d3057177418  b60c320  6729327872  3057177418"
      ]
     },
     "execution_count": 3,
     "metadata": {},
     "output_type": "execute_result"
    }
   ],
   "source": [
    "def parse_network_name(name: str) -> dict[str, int | str]:\n",
    "    net_size = name.split(\"-\")[1]\n",
    "    if net_size.endswith(\"x2\"):\n",
    "        net_size = net_size.rstrip(\"x2\")\n",
    "\n",
    "    return dict(\n",
    "        name=name,\n",
    "        net_size=net_size,\n",
    "        steps=int(name.split(\"-\")[2].lstrip(\"s\")),\n",
    "        rows=int(name.split(\"-\")[3].lstrip(\"d\")),\n",
    "    )\n",
    "\n",
    "# Create dataframe of all network checkpoints\n",
    "df_nets = pd.DataFrame([parse_network_name(x) for x in network_names])\n",
    "df_nets.head()"
   ]
  },
  {
   "cell_type": "code",
   "execution_count": 4,
   "metadata": {},
   "outputs": [
    {
     "data": {
      "text/plain": [
       "array(['b60c320', 'b40c256', 'b20c256', 'b15c192', 'b10c128', 'b6c96'],\n",
       "      dtype=object)"
      ]
     },
     "execution_count": 4,
     "metadata": {},
     "output_type": "execute_result"
    }
   ],
   "source": [
    "UNIQUE_NET_SIZES = df_nets.net_size.unique()\n",
    "UNIQUE_NET_SIZES"
   ]
  },
  {
   "attachments": {},
   "cell_type": "markdown",
   "metadata": {},
   "source": [
    "### Collect FLOP data"
   ]
  },
  {
   "cell_type": "code",
   "execution_count": 5,
   "metadata": {},
   "outputs": [],
   "source": [
    "class FilteredWriter:\n",
    "    \"\"\"Filters out an annoying message from ptflops.\"\"\"\n",
    "\n",
    "    def write(self, message):\n",
    "        if message not in (\n",
    "            \"Warning! No positional inputs found for a module, assuming batch size is 1.\",\n",
    "            \"\\n\",\n",
    "        ):\n",
    "            warnings.warn(message)\n",
    "\n",
    "\n",
    "def measure_macs(\n",
    "    model: nn.Module,\n",
    "    batch_size: int = 256,\n",
    ") -> dict[str, float | str]:\n",
    "    \"\"\"Returns macs / batch element.\"\"\"\n",
    "    # Get inputs to model.\n",
    "    # Input shapes obtained via debugging the following command:\n",
    "    #   python submodules/KataGo-pytorch-rewrite/python/test.py \\\n",
    "    #     -npzdir /nas/ucb/k8/go-attack/victimplay/ttseng-avoid-pass-alive-coldstart-39-20221025-175949/selfplay/t0-s532017152-d133516007/tdata \\\n",
    "    #     -model-kind b6c96 \\\n",
    "    #     -pos-len 19 \\\n",
    "    #     -batch-size 256\n",
    "    binaryInputNCHW = torch.randn(batch_size, 22, 19, 19, device=\"cuda\")\n",
    "    globalInputNC = torch.randn(batch_size, 19, device=\"cuda\")\n",
    "\n",
    "    # Measure via ptflops\n",
    "    ptflops_macs: float\n",
    "    ptflops_params: float\n",
    "    with contextlib.redirect_stdout(FilteredWriter()):  # type: ignore\n",
    "        ptflops_macs, ptflops_params = ptflops.get_model_complexity_info(\n",
    "            model,\n",
    "            (1,),\n",
    "            input_constructor=lambda _: dict(\n",
    "                input_spatial=binaryInputNCHW,\n",
    "                input_global=globalInputNC,\n",
    "            ),\n",
    "            as_strings=False,\n",
    "            print_per_layer_stat=False,\n",
    "        )  # type: ignore\n",
    "\n",
    "    # Measure via thop\n",
    "    thop_macs: float\n",
    "    thop_params: float\n",
    "    thop_macs, thop_params = thop.profile(  # type: ignore\n",
    "        model,\n",
    "        inputs=(binaryInputNCHW, globalInputNC),\n",
    "        verbose=False,\n",
    "    )\n",
    "\n",
    "    return dict(\n",
    "        ptflops_macs=ptflops_macs / batch_size,\n",
    "        ptflops_params=ptflops_params,\n",
    "        thop_macs=thop_macs / batch_size,\n",
    "        thop_params=thop_params,\n",
    "        batch_size=batch_size,\n",
    "    )"
   ]
  },
  {
   "cell_type": "code",
   "execution_count": 6,
   "metadata": {},
   "outputs": [
    {
     "data": {
      "application/vnd.jupyter.widget-view+json": {
       "model_id": "c9e1395435e24683af2cbe5cdc72f7ea",
       "version_major": 2,
       "version_minor": 0
      },
      "text/plain": [
       "  0%|          | 0/6 [00:00<?, ?it/s]"
      ]
     },
     "metadata": {},
     "output_type": "display_data"
    },
    {
     "data": {
      "text/html": [
       "<div>\n",
       "<style scoped>\n",
       "    .dataframe tbody tr th:only-of-type {\n",
       "        vertical-align: middle;\n",
       "    }\n",
       "\n",
       "    .dataframe tbody tr th {\n",
       "        vertical-align: top;\n",
       "    }\n",
       "\n",
       "    .dataframe thead th {\n",
       "        text-align: right;\n",
       "    }\n",
       "</style>\n",
       "<table border=\"1\" class=\"dataframe\">\n",
       "  <thead>\n",
       "    <tr style=\"text-align: right;\">\n",
       "      <th></th>\n",
       "      <th>ptflops_macs</th>\n",
       "      <th>ptflops_params</th>\n",
       "      <th>thop_macs</th>\n",
       "      <th>thop_params</th>\n",
       "      <th>batch_size</th>\n",
       "      <th>net_size</th>\n",
       "    </tr>\n",
       "  </thead>\n",
       "  <tbody>\n",
       "    <tr>\n",
       "      <th>0</th>\n",
       "      <td>3.889142e+10</td>\n",
       "      <td>108559237</td>\n",
       "      <td>3.887725e+10</td>\n",
       "      <td>108502149.0</td>\n",
       "      <td>2</td>\n",
       "      <td>b60c320</td>\n",
       "    </tr>\n",
       "    <tr>\n",
       "      <th>1</th>\n",
       "      <td>3.889139e+10</td>\n",
       "      <td>108559237</td>\n",
       "      <td>3.887722e+10</td>\n",
       "      <td>108502149.0</td>\n",
       "      <td>4</td>\n",
       "      <td>b60c320</td>\n",
       "    </tr>\n",
       "    <tr>\n",
       "      <th>2</th>\n",
       "      <td>3.889138e+10</td>\n",
       "      <td>108559237</td>\n",
       "      <td>3.887721e+10</td>\n",
       "      <td>108502149.0</td>\n",
       "      <td>8</td>\n",
       "      <td>b60c320</td>\n",
       "    </tr>\n",
       "    <tr>\n",
       "      <th>3</th>\n",
       "      <td>3.889137e+10</td>\n",
       "      <td>108559237</td>\n",
       "      <td>3.887720e+10</td>\n",
       "      <td>108502149.0</td>\n",
       "      <td>16</td>\n",
       "      <td>b60c320</td>\n",
       "    </tr>\n",
       "    <tr>\n",
       "      <th>4</th>\n",
       "      <td>3.889137e+10</td>\n",
       "      <td>108559237</td>\n",
       "      <td>3.887720e+10</td>\n",
       "      <td>108502149.0</td>\n",
       "      <td>32</td>\n",
       "      <td>b60c320</td>\n",
       "    </tr>\n",
       "  </tbody>\n",
       "</table>\n",
       "</div>"
      ],
      "text/plain": [
       "   ptflops_macs  ptflops_params     thop_macs  thop_params  batch_size  \\\n",
       "0  3.889142e+10       108559237  3.887725e+10  108502149.0           2   \n",
       "1  3.889139e+10       108559237  3.887722e+10  108502149.0           4   \n",
       "2  3.889138e+10       108559237  3.887721e+10  108502149.0           8   \n",
       "3  3.889137e+10       108559237  3.887720e+10  108502149.0          16   \n",
       "4  3.889137e+10       108559237  3.887720e+10  108502149.0          32   \n",
       "\n",
       "  net_size  \n",
       "0  b60c320  \n",
       "1  b60c320  \n",
       "2  b60c320  \n",
       "3  b60c320  \n",
       "4  b60c320  "
      ]
     },
     "execution_count": 6,
     "metadata": {},
     "output_type": "execute_result"
    }
   ],
   "source": [
    "results = []\n",
    "for net_size in tqdm(UNIQUE_NET_SIZES):\n",
    "    model_config = modelconfigs.config_of_name[net_size]\n",
    "    model = Model(model_config, 19)\n",
    "    model.initialize()\n",
    "    model.cuda()\n",
    "    model.eval()\n",
    "\n",
    "    for batch_size in [2, 4, 8, 16, 32, 64, 128, 256]:\n",
    "        res = measure_macs(model, batch_size=batch_size)\n",
    "        res[\"net_size\"] = net_size\n",
    "        results.append(res)\n",
    "\n",
    "df = pd.DataFrame(results)\n",
    "df.head()"
   ]
  },
  {
   "cell_type": "code",
   "execution_count": 7,
   "metadata": {},
   "outputs": [
    {
     "data": {
      "text/html": [
       "<div>\n",
       "<style scoped>\n",
       "    .dataframe tbody tr th:only-of-type {\n",
       "        vertical-align: middle;\n",
       "    }\n",
       "\n",
       "    .dataframe tbody tr th {\n",
       "        vertical-align: top;\n",
       "    }\n",
       "\n",
       "    .dataframe thead th {\n",
       "        text-align: right;\n",
       "    }\n",
       "</style>\n",
       "<table border=\"1\" class=\"dataframe\">\n",
       "  <thead>\n",
       "    <tr style=\"text-align: right;\">\n",
       "      <th></th>\n",
       "      <th>ptflops_macs_mean</th>\n",
       "      <th>ptflops_macs_std</th>\n",
       "      <th>thop_macs_mean</th>\n",
       "      <th>thop_macs_std</th>\n",
       "    </tr>\n",
       "    <tr>\n",
       "      <th>net_size</th>\n",
       "      <th></th>\n",
       "      <th></th>\n",
       "      <th></th>\n",
       "      <th></th>\n",
       "    </tr>\n",
       "  </thead>\n",
       "  <tbody>\n",
       "    <tr>\n",
       "      <th>b10c128</th>\n",
       "      <td>1.053432e+09</td>\n",
       "      <td>9348.777258</td>\n",
       "      <td>1.052373e+09</td>\n",
       "      <td>9318.170885</td>\n",
       "    </tr>\n",
       "    <tr>\n",
       "      <th>b15c192</th>\n",
       "      <td>3.537091e+09</td>\n",
       "      <td>11684.545004</td>\n",
       "      <td>3.534840e+09</td>\n",
       "      <td>11647.713606</td>\n",
       "    </tr>\n",
       "    <tr>\n",
       "      <th>b20c256</th>\n",
       "      <td>8.394444e+09</td>\n",
       "      <td>14019.621081</td>\n",
       "      <td>8.390522e+09</td>\n",
       "      <td>13977.256327</td>\n",
       "    </tr>\n",
       "    <tr>\n",
       "      <th>b40c256</th>\n",
       "      <td>1.670709e+10</td>\n",
       "      <td>16354.697158</td>\n",
       "      <td>1.669944e+10</td>\n",
       "      <td>16306.799048</td>\n",
       "    </tr>\n",
       "    <tr>\n",
       "      <th>b60c320</th>\n",
       "      <td>3.889138e+10</td>\n",
       "      <td>18689.773234</td>\n",
       "      <td>3.887721e+10</td>\n",
       "      <td>18636.341769</td>\n",
       "    </tr>\n",
       "    <tr>\n",
       "      <th>b6c96</th>\n",
       "      <td>3.505805e+08</td>\n",
       "      <td>7013.009512</td>\n",
       "      <td>3.500548e+08</td>\n",
       "      <td>6988.628164</td>\n",
       "    </tr>\n",
       "  </tbody>\n",
       "</table>\n",
       "</div>"
      ],
      "text/plain": [
       "          ptflops_macs_mean  ptflops_macs_std  thop_macs_mean  thop_macs_std\n",
       "net_size                                                                    \n",
       "b10c128        1.053432e+09       9348.777258    1.052373e+09    9318.170885\n",
       "b15c192        3.537091e+09      11684.545004    3.534840e+09   11647.713606\n",
       "b20c256        8.394444e+09      14019.621081    8.390522e+09   13977.256327\n",
       "b40c256        1.670709e+10      16354.697158    1.669944e+10   16306.799048\n",
       "b60c320        3.889138e+10      18689.773234    3.887721e+10   18636.341769\n",
       "b6c96          3.505805e+08       7013.009512    3.500548e+08    6988.628164"
      ]
     },
     "execution_count": 7,
     "metadata": {},
     "output_type": "execute_result"
    }
   ],
   "source": [
    "# Check we get low std in measurements\n",
    "gb = df.groupby(\"net_size\")\n",
    "df_mean = pd.DataFrame(\n",
    "    dict(\n",
    "        ptflops_macs_mean=gb.ptflops_macs.mean(),\n",
    "        ptflops_macs_std=gb.ptflops_macs.std(),\n",
    "        thop_macs_mean=gb.thop_macs.mean(),\n",
    "        thop_macs_std=gb.thop_macs.std(),\n",
    "    )\n",
    ")\n",
    "df_mean"
   ]
  },
  {
   "cell_type": "code",
   "execution_count": 8,
   "metadata": {},
   "outputs": [
    {
     "data": {
      "text/plain": [
       "{'b10c128': 1052902056.7067871,\n",
       " 'b15c192': 3535965536.369873,\n",
       " 'b20c256': 8392483407.783936,\n",
       " 'b40c256': 16703260895.197998,\n",
       " 'b60c320': 38884293414.61206,\n",
       " 'b6c96': 350317665.0437012}"
      ]
     },
     "execution_count": 8,
     "metadata": {},
     "output_type": "execute_result"
    }
   ],
   "source": [
    "macs = (df_mean.ptflops_macs_mean + df_mean.thop_macs_mean) / 2\n",
    "MACS_DICT = dict(zip(df_mean.index, macs))\n",
    "MACS_DICT"
   ]
  },
  {
   "attachments": {},
   "cell_type": "markdown",
   "metadata": {},
   "source": [
    "### Compute how many FLOPs KataGo took to train"
   ]
  },
  {
   "cell_type": "code",
   "execution_count": 9,
   "metadata": {},
   "outputs": [
    {
     "data": {
      "text/plain": [
       "8.272999624612053e+22"
      ]
     },
     "execution_count": 9,
     "metadata": {},
     "output_type": "execute_result"
    }
   ],
   "source": [
    "STRONGEST_CONFIDENTLY_RATED_NET = \"kata1-b40c256-s11840935168-d2898845681\"\n",
    "STRONGEST_CONFIDENTLY_RATED_ROWS = parse_network_name(STRONGEST_CONFIDENTLY_RATED_NET)[\n",
    "    \"rows\"\n",
    "]\n",
    "\n",
    "# https://github.com/lightvector/KataGo/blob/12b8dd4ce74367b4efa4678c9fe11597f55929f5/cpp/configs/training/selfplay8b20.cfg#L96\n",
    "VISITS_PER_ROW = 1000\n",
    "\n",
    "tot_flops = 0\n",
    "prv_rows = 0\n",
    "for x in (\n",
    "    df_nets.query(f\"rows <= {STRONGEST_CONFIDENTLY_RATED_ROWS} & net_size != 'b60c320'\")\n",
    "    .sort_values(\"rows\")\n",
    "    .reset_index(drop=True)\n",
    "    .itertuples()\n",
    "):\n",
    "    cur_rows = x.rows\n",
    "\n",
    "    # 2 FLOPS per MAC\n",
    "    cur_flops = 2 * MACS_DICT[x.net_size] * VISITS_PER_ROW * (cur_rows - prv_rows)\n",
    "    tot_flops += cur_flops\n",
    "\n",
    "    prv_rows = cur_rows\n",
    "\n",
    "tot_flops"
   ]
  }
 ],
 "metadata": {
  "kernelspec": {
   "display_name": "venv",
   "language": "python",
   "name": "python3"
  },
  "language_info": {
   "codemirror_mode": {
    "name": "ipython",
    "version": 3
   },
   "file_extension": ".py",
   "mimetype": "text/x-python",
   "name": "python",
   "nbconvert_exporter": "python",
   "pygments_lexer": "ipython3",
   "version": "3.10.6"
  },
  "orig_nbformat": 4,
  "vscode": {
   "interpreter": {
    "hash": "23393d2575091a37cff0d0e9e7479591a295495b26c3b2ebf9b64da572e02d85"
   }
  }
 },
 "nbformat": 4,
 "nbformat_minor": 2
}
